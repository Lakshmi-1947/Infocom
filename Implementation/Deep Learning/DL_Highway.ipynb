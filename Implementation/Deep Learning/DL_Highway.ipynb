{
  "cells": [
    {
      "cell_type": "markdown",
      "metadata": {
        "id": "N2gTdDb7WrM1"
      },
      "source": [
        "# **Import the Necessary Libraries**"
      ]
    },
    {
      "cell_type": "code",
      "execution_count": 1,
      "metadata": {
        "_cell_guid": "b1076dfc-b9ad-4769-8c92-a6c4dae69d19",
        "_uuid": "8f2839f25d086af736a60e9eeb907d3b93b6e0e5",
        "execution": {
          "iopub.execute_input": "2024-11-15T17:01:31.939015Z",
          "iopub.status.busy": "2024-11-15T17:01:31.938442Z",
          "iopub.status.idle": "2024-11-15T17:01:45.794378Z",
          "shell.execute_reply": "2024-11-15T17:01:45.792917Z",
          "shell.execute_reply.started": "2024-11-15T17:01:31.938956Z"
        },
        "id": "jz-zsdyHWrM3",
        "trusted": true
      },
      "outputs": [],
      "source": [
        "import numpy as np\n",
        "import matplotlib.pyplot as plt\n",
        "import pandas as pd\n",
        "from tqdm import tqdm\n",
        "import ast\n",
        "import torch\n",
        "import torch.nn as nn\n",
        "import torch.optim as optim\n",
        "from torch.utils.data import TensorDataset, DataLoader\n",
        "from sklearn.metrics import mean_squared_error, mean_absolute_error"
      ]
    },
    {
      "cell_type": "markdown",
      "metadata": {},
      "source": [
        "# **Load The Train and Test Sets**"
      ]
    },
    {
      "cell_type": "code",
      "execution_count": 2,
      "metadata": {},
      "outputs": [
        {
          "name": "stdout",
          "output_type": "stream",
          "text": [
            "Processing data from C:/Users/Vaideeswaran/Documents/ACS Project/Learning Dataset/train_highway_dataset.csv on device: cuda\n"
          ]
        },
        {
          "name": "stderr",
          "output_type": "stream",
          "text": [
            "100%|██████████| 1500000/1500000 [00:36<00:00, 41150.33it/s]\n",
            "100%|██████████| 1500000/1500000 [00:35<00:00, 42347.42it/s]\n"
          ]
        },
        {
          "name": "stdout",
          "output_type": "stream",
          "text": [
            "Processing data from C:/Users/Vaideeswaran/Documents/ACS Project/Learning Dataset/test_highway_dataset.csv on device: cuda\n"
          ]
        },
        {
          "name": "stderr",
          "output_type": "stream",
          "text": [
            "100%|██████████| 8113281/8113281 [03:14<00:00, 41771.36it/s]\n",
            "100%|██████████| 8113281/8113281 [05:29<00:00, 24601.58it/s] \n"
          ]
        }
      ],
      "source": [
        "\"\"\"\n",
        "\n",
        "Input: The path to the train and test datasets.\n",
        "Output: DataLoaders for the train and test datasets.\n",
        "Functionality:\n",
        "                - Loads the datasets from the specified paths.\n",
        "                - Converts string representations of lists in the 'info_vector' and 'new_state' columns to actual lists.\n",
        "                - Constructs input features (X) as a 5D vector containing coordinates and relative speed.\n",
        "                - Constructs the target variable for regression (y_reg) as the relative speed at t'.\n",
        "                - Constructs the target variable for classification (y_cls) as labels for LOS/NLOS/NLOSv based on the conditions specified.\n",
        "                - Reshapes the input for RNN processing.\n",
        "\n",
        "\"\"\"\n",
        "\n",
        "def process_data(file_path, input_size = 5):\n",
        "    df = pd.read_csv(file_path) # Load the dataset\n",
        "    device = torch.device(\"cuda\" if torch.cuda.is_available() else \"cpu\") # Set device for PyTorch\n",
        "    print(f\"Processing data from {file_path} on device: {device}\")\n",
        "\n",
        "    info_vector = [ast.literal_eval(item) for item in tqdm(df['info_vector'])] # Convert string representation of lists to actual lists\n",
        "    new_state = [ast.literal_eval(item) for item in tqdm(df['new_state'])] # Convert string representation of lists to actual lists\n",
        "\n",
        "    # X: input features (5D vector: coord1[x,y], coord2[x,y], rel_speed)\n",
        "    X = torch.tensor([\n",
        "        list(coord1) + list(coord2) + [rel_speed]\n",
        "        for coord1, coord2, rel_speed in info_vector\n",
        "    ], dtype=torch.float32).to(device)  # Convert to tensor and move to device\n",
        "\n",
        "    ################################################################################################################################################################################\n",
        "\n",
        "    # y_reg: relative speed at t'\n",
        "    y_reg = torch.tensor([ns[2] for ns in new_state], dtype=torch.float32).view(-1, 1).to(device)  # Convert to tensor and move to device\n",
        "\n",
        "    ################################################################################################################################################################################\n",
        "\n",
        "    # Reshape input for RNN: [N, seq_len=1, input_size]\n",
        "    X_seq = X.view(-1, 1, input_size)\n",
        "\n",
        "    return TensorDataset(X_seq, y_reg)  # Return TensorDataset containing input features and target variable for regression\n",
        "\n",
        "####################################################################################################################################################################################\n",
        "\n",
        "# Path to the train and test datasets\n",
        "\n",
        "train_path = 'C:/Users/Vaideeswaran/Documents/ACS Project/Learning Dataset/train_highway_dataset.csv'\n",
        "test_path = 'C:/Users/Vaideeswaran/Documents/ACS Project/Learning Dataset/test_highway_dataset.csv'\n",
        "\n",
        "# Create DataLoaders\n",
        "train_dataset = process_data(train_path)\n",
        "test_dataset = process_data(test_path)"
      ]
    },
    {
      "cell_type": "markdown",
      "metadata": {},
      "source": [
        "# **RNN**"
      ]
    },
    {
      "cell_type": "markdown",
      "metadata": {},
      "source": [
        "## **Training**"
      ]
    },
    {
      "cell_type": "code",
      "execution_count": 10,
      "metadata": {},
      "outputs": [
        {
          "name": "stdout",
          "output_type": "stream",
          "text": [
            "cuda\n",
            "Total parameters: 1056769\n",
            "Trainable parameters: 1056769\n"
          ]
        },
        {
          "name": "stderr",
          "output_type": "stream",
          "text": [
            " 10%|█         | 1/10 [00:12<01:50, 12.26s/it]"
          ]
        },
        {
          "name": "stdout",
          "output_type": "stream",
          "text": [
            "Epoch 1 Loss:  73.01609623098535\n"
          ]
        },
        {
          "name": "stderr",
          "output_type": "stream",
          "text": [
            " 20%|██        | 2/10 [00:24<01:36, 12.06s/it]"
          ]
        },
        {
          "name": "stdout",
          "output_type": "stream",
          "text": [
            "Epoch 2 Loss:  38.3123119637421\n"
          ]
        },
        {
          "name": "stderr",
          "output_type": "stream",
          "text": [
            " 30%|███       | 3/10 [00:38<01:31, 13.12s/it]"
          ]
        },
        {
          "name": "stdout",
          "output_type": "stream",
          "text": [
            "Epoch 3 Loss:  22.522153311377906\n"
          ]
        },
        {
          "name": "stderr",
          "output_type": "stream",
          "text": [
            " 40%|████      | 4/10 [01:23<02:34, 25.70s/it]"
          ]
        },
        {
          "name": "stdout",
          "output_type": "stream",
          "text": [
            "Epoch 4 Loss:  13.57077066072425\n"
          ]
        },
        {
          "name": "stderr",
          "output_type": "stream",
          "text": [
            " 50%|█████     | 5/10 [01:53<02:16, 27.25s/it]"
          ]
        },
        {
          "name": "stdout",
          "output_type": "stream",
          "text": [
            "Epoch 5 Loss:  4.915998010698439\n"
          ]
        },
        {
          "name": "stderr",
          "output_type": "stream",
          "text": [
            " 60%|██████    | 6/10 [02:39<02:14, 33.51s/it]"
          ]
        },
        {
          "name": "stdout",
          "output_type": "stream",
          "text": [
            "Epoch 6 Loss:  1.1820969596861166\n"
          ]
        },
        {
          "name": "stderr",
          "output_type": "stream",
          "text": [
            " 70%|███████   | 7/10 [02:52<01:20, 26.75s/it]"
          ]
        },
        {
          "name": "stdout",
          "output_type": "stream",
          "text": [
            "Epoch 7 Loss:  0.5822588188452932\n"
          ]
        },
        {
          "name": "stderr",
          "output_type": "stream",
          "text": [
            " 80%|████████  | 8/10 [03:07<00:46, 23.21s/it]"
          ]
        },
        {
          "name": "stdout",
          "output_type": "stream",
          "text": [
            "Epoch 8 Loss:  0.47901017650605876\n"
          ]
        },
        {
          "name": "stderr",
          "output_type": "stream",
          "text": [
            " 90%|█████████ | 9/10 [04:02<00:33, 33.02s/it]"
          ]
        },
        {
          "name": "stdout",
          "output_type": "stream",
          "text": [
            "Epoch 9 Loss:  0.47233212867897933\n"
          ]
        },
        {
          "name": "stderr",
          "output_type": "stream",
          "text": [
            "100%|██████████| 10/10 [04:17<00:00, 25.78s/it]"
          ]
        },
        {
          "name": "stdout",
          "output_type": "stream",
          "text": [
            "Epoch 10 Loss:  0.4220317276773192\n"
          ]
        },
        {
          "name": "stderr",
          "output_type": "stream",
          "text": [
            "\n"
          ]
        },
        {
          "data": {
            "image/png": "[encoded data removed]",
            "text/plain": [
              "<Figure size 640x480 with 1 Axes>"
            ]
          },
          "metadata": {},
          "output_type": "display_data"
        }
      ],
      "source": [
        "class RNN(nn.Module):\n",
        "    def __init__(self, hidden_size, input_size = 5, output_size = 1):\n",
        "        super(RNN, self).__init__()\n",
        "        self.rnn = nn.RNN(\n",
        "            input_size = input_size,\n",
        "            hidden_size = hidden_size,\n",
        "            batch_first = True\n",
        "        )\n",
        "        self.reg_head = nn.Sequential(nn.Linear(hidden_size, output_size))  # for continuous output\n",
        "\n",
        "    def forward(self, x):\n",
        "        out, _ = self.rnn(x)\n",
        "        out = out[:, -1, :]  # take the output from the last time step\n",
        "        return self.reg_head(out)\n",
        "\n",
        "# Hyperparameters\n",
        "\n",
        "hidden_size = 1024\n",
        "num_epochs = 10 # Number of epochs for training\n",
        "lr = 1e-4 # Learning rate for the optimizer\n",
        "device = torch.device(\"cuda\" if torch.cuda.is_available() else \"cpu\")\n",
        "batch_size = 1024  # Define batch size\n",
        "\n",
        "####################################################################################################################################################################################\n",
        "\n",
        "# Create DataLoaders for training and testing datasets\n",
        "\n",
        "train_loader = DataLoader(train_dataset, batch_size = batch_size, shuffle = False)\n",
        "test_loader = DataLoader(test_dataset, batch_size = batch_size, shuffle = False)\n",
        "\n",
        "####################################################################################################################################################################################\n",
        "\n",
        "# Instantiate model\n",
        "\n",
        "model = RNN(hidden_size).to(device)\n",
        "print(device)\n",
        "\n",
        "# Total number of parameters\n",
        "total_params = sum(p.numel() for p in model.parameters())\n",
        "\n",
        "# Only trainable parameters\n",
        "trainable_params = sum(p.numel() for p in model.parameters() if p.requires_grad)\n",
        "print(f\"Total parameters: {total_params}\")\n",
        "print(f\"Trainable parameters: {trainable_params}\")\n",
        "\n",
        "####################################################################################################################################################################################\n",
        "\n",
        "optimizer = optim.Adam(model.parameters(), lr=lr)\n",
        "regression_loss_fn = nn.L1Loss()\n",
        "loss_list = []\n",
        "\n",
        "# Training loop\n",
        "for epoch in tqdm(range(num_epochs)):\n",
        "    total_loss = 0.0\n",
        "    for batch_x, batch_y_reg in train_loader:\n",
        "        reg_out = model(batch_x)\n",
        "\n",
        "        loss = regression_loss_fn(reg_out, batch_y_reg)\n",
        "\n",
        "        optimizer.zero_grad()\n",
        "        loss.backward()\n",
        "        optimizer.step()\n",
        "\n",
        "        total_loss = total_loss + loss.item()\n",
        "\n",
        "    print(\"Epoch\", epoch + 1, \"Loss: \", total_loss / len(train_loader))\n",
        "    loss_list.append(total_loss / len(train_loader))\n",
        "\n",
        "# Save the model\n",
        "torch.save(model.state_dict(), 'C:/Users/Vaideeswaran/Documents/ACS Project/Model Weights/rnn_highway.pth')\n",
        "\n",
        "# Plot the loss curve\n",
        "\n",
        "plt.plot(loss_list)\n",
        "plt.xlabel('Epochs')\n",
        "plt.ylabel('Loss')\n",
        "plt.title('Training Loss Curve')\n",
        "plt.grid()\n",
        "plt.savefig('C:/Users/Vaideeswaran/Documents/ACS Project/Train Plots/rnn_highway_loss_curve.svg')\n",
        "plt.show()"
      ]
    },
    {
      "cell_type": "markdown",
      "metadata": {},
      "source": [
        "## **Testing**"
      ]
    },
    {
      "cell_type": "code",
      "execution_count": 11,
      "metadata": {},
      "outputs": [
        {
          "name": "stderr",
          "output_type": "stream",
          "text": [
            "Testing: 100%|██████████| 7924/7924 [01:29<00:00, 88.25batch/s] \n"
          ]
        },
        {
          "name": "stdout",
          "output_type": "stream",
          "text": [
            "Regression MAE: 0.6139\n"
          ]
        }
      ],
      "source": [
        "model = RNN(hidden_size).to(device)\n",
        "model.load_state_dict(torch.load('C:/Users/Vaideeswaran/Documents/ACS Project/Model Weights/rnn_highway.pth'))\n",
        "model.eval()\n",
        "\n",
        "prediction_list = []\n",
        "target_list = []\n",
        "\n",
        "with torch.no_grad():\n",
        "    for x_batch, y_reg_batch in tqdm(test_loader, desc=\"Testing\", unit=\"batch\"):\n",
        "        x_batch = x_batch.to(device)\n",
        "        y_reg_batch = y_reg_batch.to(device)\n",
        "\n",
        "        reg_out = model(x_batch)\n",
        "\n",
        "        prediction_list.extend(reg_out.view(-1).cpu().numpy())\n",
        "        target_list.extend(y_reg_batch.view(-1).cpu().numpy())\n",
        "\n",
        "# Compute metrics\n",
        "mae = mean_absolute_error(target_list, prediction_list)\n",
        "print(f\"Regression MAE: {mae:.4f}\")\n",
        "error = abs(np.array(prediction_list) - np.array(target_list))\n",
        "\n",
        "# Save predictions and targets to CSV\n",
        "predictions_df = pd.DataFrame({\n",
        "    'Predictions': prediction_list,\n",
        "    'Targets': target_list,\n",
        "    'Error': error\n",
        "})\n",
        "predictions_df.to_csv('C:/Users/Vaideeswaran/Documents/ACS Project/Performance/rnn_highway_predictions.csv', index=False)"
      ]
    },
    {
      "cell_type": "code",
      "execution_count": 12,
      "metadata": {},
      "outputs": [
        {
          "name": "stderr",
          "output_type": "stream",
          "text": [
            "Testing: 100%|██████████| 1465/1465 [00:11<00:00, 122.28batch/s]\n"
          ]
        },
        {
          "name": "stdout",
          "output_type": "stream",
          "text": [
            "Train Regression MAE: 1.6083\n"
          ]
        }
      ],
      "source": [
        "model = RNN(hidden_size).to(device)\n",
        "model.load_state_dict(torch.load('C:/Users/Vaideeswaran/Documents/ACS Project/Model Weights/rnn_highway.pth'))\n",
        "model.eval()\n",
        "\n",
        "prediction_list = []\n",
        "target_list = []\n",
        "\n",
        "with torch.no_grad():\n",
        "    for x_batch, y_reg_batch in tqdm(train_loader, desc=\"Testing\", unit=\"batch\"):\n",
        "        x_batch = x_batch.to(device)\n",
        "        y_reg_batch = y_reg_batch.to(device)\n",
        "\n",
        "        reg_out = model(x_batch)\n",
        "\n",
        "        prediction_list.extend(reg_out.view(-1).cpu().numpy())\n",
        "        target_list.extend(y_reg_batch.view(-1).cpu().numpy())\n",
        "\n",
        "# Compute metrics\n",
        "mae = mean_absolute_error(target_list, prediction_list)\n",
        "print(f\"Train Regression MAE: {mae:.4f}\")\n",
        "\n",
        "# Save predictions and targets to CSV\n",
        "predictions_df = pd.DataFrame({\n",
        "    'Predictions': prediction_list,\n",
        "    'Targets': target_list,\n",
        "    'Error': abs(np.array(prediction_list) - np.array(target_list))\n",
        "})\n",
        "predictions_df.to_csv('C:/Users/Vaideeswaran/Documents/ACS Project/Performance/rnn_highway_predictions_train.csv', index=False)"
      ]
    },
    {
      "cell_type": "markdown",
      "metadata": {},
      "source": [
        "# **LSTM**"
      ]
    },
    {
      "cell_type": "markdown",
      "metadata": {},
      "source": [
        "## **Training**"
      ]
    },
    {
      "cell_type": "code",
      "execution_count": 22,
      "metadata": {},
      "outputs": [
        {
          "name": "stdout",
          "output_type": "stream",
          "text": [
            "cuda\n",
            "Total parameters: 1063425\n",
            "Trainable parameters: 1063425\n"
          ]
        },
        {
          "name": "stderr",
          "output_type": "stream",
          "text": [
            "  0%|          | 0/15 [00:00<?, ?it/s]"
          ]
        },
        {
          "name": "stderr",
          "output_type": "stream",
          "text": [
            "  7%|▋         | 1/15 [00:36<08:32, 36.61s/it]"
          ]
        },
        {
          "name": "stdout",
          "output_type": "stream",
          "text": [
            "Epoch 1 Loss:  84.0490155893788\n"
          ]
        },
        {
          "name": "stderr",
          "output_type": "stream",
          "text": [
            " 13%|█▎        | 2/15 [01:16<08:23, 38.72s/it]"
          ]
        },
        {
          "name": "stdout",
          "output_type": "stream",
          "text": [
            "Epoch 2 Loss:  65.93694773273663\n"
          ]
        },
        {
          "name": "stderr",
          "output_type": "stream",
          "text": [
            " 20%|██        | 3/15 [01:31<05:30, 27.57s/it]"
          ]
        },
        {
          "name": "stdout",
          "output_type": "stream",
          "text": [
            "Epoch 3 Loss:  49.418528202043866\n"
          ]
        },
        {
          "name": "stderr",
          "output_type": "stream",
          "text": [
            " 27%|██▋       | 4/15 [01:46<04:09, 22.70s/it]"
          ]
        },
        {
          "name": "stdout",
          "output_type": "stream",
          "text": [
            "Epoch 4 Loss:  34.06746822945494\n"
          ]
        },
        {
          "name": "stderr",
          "output_type": "stream",
          "text": [
            " 33%|███▎      | 5/15 [02:00<03:17, 19.79s/it]"
          ]
        },
        {
          "name": "stdout",
          "output_type": "stream",
          "text": [
            "Epoch 5 Loss:  25.59114899597172\n"
          ]
        },
        {
          "name": "stderr",
          "output_type": "stream",
          "text": [
            " 40%|████      | 6/15 [02:15<02:41, 17.98s/it]"
          ]
        },
        {
          "name": "stdout",
          "output_type": "stream",
          "text": [
            "Epoch 6 Loss:  20.917743901440513\n"
          ]
        },
        {
          "name": "stderr",
          "output_type": "stream",
          "text": [
            " 47%|████▋     | 7/15 [02:30<02:16, 17.01s/it]"
          ]
        },
        {
          "name": "stdout",
          "output_type": "stream",
          "text": [
            "Epoch 7 Loss:  16.129378733155875\n"
          ]
        },
        {
          "name": "stderr",
          "output_type": "stream",
          "text": [
            " 53%|█████▎    | 8/15 [02:50<02:06, 18.11s/it]"
          ]
        },
        {
          "name": "stdout",
          "output_type": "stream",
          "text": [
            "Epoch 8 Loss:  11.331846008167535\n"
          ]
        },
        {
          "name": "stderr",
          "output_type": "stream",
          "text": [
            " 60%|██████    | 9/15 [03:31<02:30, 25.01s/it]"
          ]
        },
        {
          "name": "stdout",
          "output_type": "stream",
          "text": [
            "Epoch 9 Loss:  6.621398757596472\n"
          ]
        },
        {
          "name": "stderr",
          "output_type": "stream",
          "text": [
            " 67%|██████▋   | 10/15 [03:46<01:50, 22.19s/it]"
          ]
        },
        {
          "name": "stdout",
          "output_type": "stream",
          "text": [
            "Epoch 10 Loss:  2.8239158208866577\n"
          ]
        },
        {
          "name": "stderr",
          "output_type": "stream",
          "text": [
            " 73%|███████▎  | 11/15 [04:02<01:20, 20.15s/it]"
          ]
        },
        {
          "name": "stdout",
          "output_type": "stream",
          "text": [
            "Epoch 11 Loss:  1.0921935316442222\n"
          ]
        },
        {
          "name": "stderr",
          "output_type": "stream",
          "text": [
            " 80%|████████  | 12/15 [04:18<00:56, 18.74s/it]"
          ]
        },
        {
          "name": "stdout",
          "output_type": "stream",
          "text": [
            "Epoch 12 Loss:  0.6056936682440315\n"
          ]
        },
        {
          "name": "stderr",
          "output_type": "stream",
          "text": [
            " 87%|████████▋ | 13/15 [04:33<00:35, 17.77s/it]"
          ]
        },
        {
          "name": "stdout",
          "output_type": "stream",
          "text": [
            "Epoch 13 Loss:  0.469413657227067\n"
          ]
        },
        {
          "name": "stderr",
          "output_type": "stream",
          "text": [
            " 93%|█████████▎| 14/15 [04:48<00:16, 16.92s/it]"
          ]
        },
        {
          "name": "stdout",
          "output_type": "stream",
          "text": [
            "Epoch 14 Loss:  0.423494624521952\n"
          ]
        },
        {
          "name": "stderr",
          "output_type": "stream",
          "text": [
            "100%|██████████| 15/15 [05:03<00:00, 20.27s/it]"
          ]
        },
        {
          "name": "stdout",
          "output_type": "stream",
          "text": [
            "Epoch 15 Loss:  0.39917319393605505\n"
          ]
        },
        {
          "name": "stderr",
          "output_type": "stream",
          "text": [
            "\n"
          ]
        },
        {
          "data": {
            "image/png": "[encoded data removed]",
            "text/plain": [
              "<Figure size 640x480 with 1 Axes>"
            ]
          },
          "metadata": {},
          "output_type": "display_data"
        }
      ],
      "source": [
        "class LSTM(nn.Module):\n",
        "    def __init__(self, hidden_size, input_size = 5, output_size = 1):\n",
        "        super(LSTM, self).__init__()\n",
        "        self.lstm = nn.LSTM(input_size, hidden_size, batch_first=True)\n",
        "        self.reg_head = nn.Linear(hidden_size, output_size)\n",
        "\n",
        "    def forward(self, x):\n",
        "        out, (hn, cn) = self.lstm(x)\n",
        "        out = out[:, -1, :]\n",
        "        reg_out = self.reg_head(out)\n",
        "        return reg_out\n",
        "\n",
        "# Hyperparameters\n",
        "\n",
        "hidden_size = 512\n",
        "num_epochs = 15\n",
        "lr = 1e-4 # Learning rate for the optimizer\n",
        "device = torch.device(\"cuda\" if torch.cuda.is_available() else \"cpu\")\n",
        "batch_size = 512 # Define batch size\n",
        "\n",
        "####################################################################################################################################################################################\n",
        "\n",
        "# Create DataLoaders for training and testing datasets\n",
        "\n",
        "train_loader = DataLoader(train_dataset, batch_size = batch_size, shuffle = False)\n",
        "test_loader = DataLoader(test_dataset, batch_size = batch_size, shuffle = False)\n",
        "\n",
        "####################################################################################################################################################################################\n",
        "\n",
        "# Instantiate model\n",
        "\n",
        "model = LSTM(hidden_size).to(device)\n",
        "print(device)\n",
        "optimizer = optim.Adam(model.parameters(), lr=lr)\n",
        "regression_loss_fn = nn.L1Loss()\n",
        "\n",
        "# Total number of parameters\n",
        "total_params = sum(p.numel() for p in model.parameters())\n",
        "\n",
        "# Only trainable parameters\n",
        "trainable_params = sum(p.numel() for p in model.parameters() if p.requires_grad)\n",
        "print(f\"Total parameters: {total_params}\")\n",
        "print(f\"Trainable parameters: {trainable_params}\")\n",
        "\n",
        "####################################################################################################################################################################################\n",
        "\n",
        "loss_list = []\n",
        "\n",
        "# Training loop\n",
        "for epoch in tqdm(range(num_epochs)):\n",
        "    total_loss = 0.0\n",
        "    for batch_x, batch_y_reg in train_loader:\n",
        "        reg_out = model(batch_x)\n",
        "\n",
        "        loss = regression_loss_fn(reg_out, batch_y_reg)\n",
        "\n",
        "        optimizer.zero_grad()\n",
        "        loss.backward()\n",
        "        optimizer.step()\n",
        "\n",
        "        total_loss = total_loss + loss.item()\n",
        "    print(\"Epoch\", epoch + 1, \"Loss: \", total_loss / len(train_loader))\n",
        "    loss_list.append(total_loss / len(train_loader))\n",
        "\n",
        "# Save the model\n",
        "torch.save(model.state_dict(), 'C:/Users/Vaideeswaran/Documents/ACS Project/Model Weights/lstm_highway.pth')\n",
        "\n",
        "# Plot the loss curve\n",
        "plt.plot(loss_list)\n",
        "plt.xlabel('Epochs')\n",
        "plt.ylabel('Loss')\n",
        "plt.title('Training Loss Curve')\n",
        "plt.grid()\n",
        "plt.savefig('C:/Users/Vaideeswaran/Documents/ACS Project/Train Plots/lstm_highway_loss_curve.svg')\n",
        "plt.show()"
      ]
    },
    {
      "cell_type": "markdown",
      "metadata": {},
      "source": [
        "## **Testing**"
      ]
    },
    {
      "cell_type": "code",
      "execution_count": 23,
      "metadata": {},
      "outputs": [
        {
          "name": "stderr",
          "output_type": "stream",
          "text": [
            "Testing: 100%|██████████| 15847/15847 [01:39<00:00, 159.36batch/s]\n"
          ]
        },
        {
          "name": "stdout",
          "output_type": "stream",
          "text": [
            "Regression MAE: 0.3733\n"
          ]
        }
      ],
      "source": [
        "model = LSTM(hidden_size).to(device)\n",
        "model.load_state_dict(torch.load('C:/Users/Vaideeswaran/Documents/ACS Project/Model Weights/lstm_highway.pth'))\n",
        "model.eval()\n",
        "\n",
        "prediction_list = []\n",
        "target_list = []\n",
        "\n",
        "with torch.no_grad():\n",
        "    for x_batch, y_reg_batch in tqdm(test_loader, desc=\"Testing\", unit=\"batch\"):\n",
        "        x_batch = x_batch.to(device)\n",
        "        y_reg_batch = y_reg_batch.to(device)\n",
        "\n",
        "        reg_out = model(x_batch)\n",
        "\n",
        "        # Collect predictions and targets\n",
        "\n",
        "        prediction_list.extend(reg_out.view(-1).cpu().numpy())\n",
        "        target_list.extend(y_reg_batch.view(-1).cpu().numpy())\n",
        "\n",
        "# Compute metrics\n",
        "mae = mean_absolute_error(target_list, prediction_list)\n",
        "print(f\"Regression MAE: {mae:.4f}\")\n",
        "\n",
        "# Save predictions and targets to CSV\n",
        "predictions_df = pd.DataFrame({\n",
        "    'Predictions': prediction_list,\n",
        "    'Targets': target_list,\n",
        "    'Error': abs(np.array(prediction_list) - np.array(target_list))\n",
        "})\n",
        "predictions_df.to_csv('C:/Users/Vaideeswaran/Documents/ACS Project/Performance/lstm_highway_predictions.csv', index=False)"
      ]
    },
    {
      "cell_type": "code",
      "execution_count": 24,
      "metadata": {},
      "outputs": [
        {
          "name": "stderr",
          "output_type": "stream",
          "text": [
            "Testing: 100%|██████████| 2930/2930 [00:13<00:00, 215.30batch/s]\n"
          ]
        },
        {
          "name": "stdout",
          "output_type": "stream",
          "text": [
            "Regression MAE: 0.6094\n"
          ]
        }
      ],
      "source": [
        "model = LSTM(hidden_size).to(device)\n",
        "model.load_state_dict(torch.load('C:/Users/Vaideeswaran/Documents/ACS Project/Model Weights/lstm_highway.pth'))\n",
        "model.eval()\n",
        "\n",
        "prediction_list = []\n",
        "target_list = []\n",
        "\n",
        "with torch.no_grad():\n",
        "    for x_batch, y_reg_batch in tqdm(train_loader, desc=\"Testing\", unit=\"batch\"):\n",
        "        x_batch = x_batch.to(device)\n",
        "        y_reg_batch = y_reg_batch.to(device)\n",
        "\n",
        "        reg_out = model(x_batch)\n",
        "\n",
        "        # Collect predictions and targets\n",
        "\n",
        "        prediction_list.extend(reg_out.view(-1).cpu().numpy())\n",
        "        target_list.extend(y_reg_batch.view(-1).cpu().numpy())\n",
        "\n",
        "# Compute metrics\n",
        "mae = mean_absolute_error(target_list, prediction_list)\n",
        "print(f\"Regression MAE: {mae:.4f}\")\n",
        "\n",
        "# Save predictions and targets to CSV\n",
        "predictions_df = pd.DataFrame({\n",
        "    'Predictions': prediction_list,\n",
        "    'Targets': target_list,\n",
        "    'Error': abs(np.array(prediction_list) - np.array(target_list))\n",
        "})\n",
        "predictions_df.to_csv('C:/Users/Vaideeswaran/Documents/ACS Project/Performance/lstm_highway_predictions_train.csv', index=False)"
      ]
    },
    {
      "cell_type": "markdown",
      "metadata": {},
      "source": [
        "# **GRU**"
      ]
    },
    {
      "cell_type": "markdown",
      "metadata": {},
      "source": [
        "## **Training**"
      ]
    },
    {
      "cell_type": "code",
      "execution_count": 25,
      "metadata": {},
      "outputs": [
        {
          "name": "stdout",
          "output_type": "stream",
          "text": [
            "cuda\n",
            "Total parameters: 1093201\n",
            "Trainable parameters: 1093201\n"
          ]
        },
        {
          "name": "stderr",
          "output_type": "stream",
          "text": [
            "  7%|▋         | 1/15 [00:16<03:45, 16.12s/it]"
          ]
        },
        {
          "name": "stdout",
          "output_type": "stream",
          "text": [
            "Epoch 1 Loss:  72.21532759031744\n"
          ]
        },
        {
          "name": "stderr",
          "output_type": "stream",
          "text": [
            " 13%|█▎        | 2/15 [00:32<03:32, 16.32s/it]"
          ]
        },
        {
          "name": "stdout",
          "output_type": "stream",
          "text": [
            "Epoch 2 Loss:  36.436342594363175\n"
          ]
        },
        {
          "name": "stderr",
          "output_type": "stream",
          "text": [
            " 20%|██        | 3/15 [00:48<03:14, 16.20s/it]"
          ]
        },
        {
          "name": "stdout",
          "output_type": "stream",
          "text": [
            "Epoch 3 Loss:  21.07610479532757\n"
          ]
        },
        {
          "name": "stderr",
          "output_type": "stream",
          "text": [
            " 27%|██▋       | 4/15 [01:04<02:57, 16.16s/it]"
          ]
        },
        {
          "name": "stdout",
          "output_type": "stream",
          "text": [
            "Epoch 4 Loss:  10.925511626797528\n"
          ]
        },
        {
          "name": "stderr",
          "output_type": "stream",
          "text": [
            " 33%|███▎      | 5/15 [01:21<02:43, 16.34s/it]"
          ]
        },
        {
          "name": "stdout",
          "output_type": "stream",
          "text": [
            "Epoch 5 Loss:  2.670545334152801\n"
          ]
        },
        {
          "name": "stderr",
          "output_type": "stream",
          "text": [
            " 40%|████      | 6/15 [01:37<02:27, 16.39s/it]"
          ]
        },
        {
          "name": "stdout",
          "output_type": "stream",
          "text": [
            "Epoch 6 Loss:  0.6380531216949327\n"
          ]
        },
        {
          "name": "stderr",
          "output_type": "stream",
          "text": [
            " 47%|████▋     | 7/15 [01:54<02:10, 16.34s/it]"
          ]
        },
        {
          "name": "stdout",
          "output_type": "stream",
          "text": [
            "Epoch 7 Loss:  0.4344668103922349\n"
          ]
        },
        {
          "name": "stderr",
          "output_type": "stream",
          "text": [
            " 53%|█████▎    | 8/15 [02:10<01:53, 16.20s/it]"
          ]
        },
        {
          "name": "stdout",
          "output_type": "stream",
          "text": [
            "Epoch 8 Loss:  0.3941745615249608\n"
          ]
        },
        {
          "name": "stderr",
          "output_type": "stream",
          "text": [
            " 60%|██████    | 9/15 [02:26<01:37, 16.22s/it]"
          ]
        },
        {
          "name": "stdout",
          "output_type": "stream",
          "text": [
            "Epoch 9 Loss:  0.37732070125003725\n"
          ]
        },
        {
          "name": "stderr",
          "output_type": "stream",
          "text": [
            " 67%|██████▋   | 10/15 [02:42<01:21, 16.33s/it]"
          ]
        },
        {
          "name": "stdout",
          "output_type": "stream",
          "text": [
            "Epoch 10 Loss:  0.37508389155409033\n"
          ]
        },
        {
          "name": "stderr",
          "output_type": "stream",
          "text": [
            " 73%|███████▎  | 11/15 [03:00<01:06, 16.59s/it]"
          ]
        },
        {
          "name": "stdout",
          "output_type": "stream",
          "text": [
            "Epoch 11 Loss:  0.36638726309806413\n"
          ]
        },
        {
          "name": "stderr",
          "output_type": "stream",
          "text": [
            " 80%|████████  | 12/15 [03:16<00:49, 16.62s/it]"
          ]
        },
        {
          "name": "stdout",
          "output_type": "stream",
          "text": [
            "Epoch 12 Loss:  0.36035597808531933\n"
          ]
        },
        {
          "name": "stderr",
          "output_type": "stream",
          "text": [
            " 87%|████████▋ | 13/15 [03:33<00:33, 16.54s/it]"
          ]
        },
        {
          "name": "stdout",
          "output_type": "stream",
          "text": [
            "Epoch 13 Loss:  0.3606718082120801\n"
          ]
        },
        {
          "name": "stderr",
          "output_type": "stream",
          "text": [
            " 93%|█████████▎| 14/15 [03:50<00:16, 16.67s/it]"
          ]
        },
        {
          "name": "stdout",
          "output_type": "stream",
          "text": [
            "Epoch 14 Loss:  0.36339173441047146\n"
          ]
        },
        {
          "name": "stderr",
          "output_type": "stream",
          "text": [
            "100%|██████████| 15/15 [04:07<00:00, 16.47s/it]"
          ]
        },
        {
          "name": "stdout",
          "output_type": "stream",
          "text": [
            "Epoch 15 Loss:  0.3604287865066284\n"
          ]
        },
        {
          "name": "stderr",
          "output_type": "stream",
          "text": [
            "\n"
          ]
        },
        {
          "data": {
            "image/png": "[encoded data removed]",
            "text/plain": [
              "<Figure size 640x480 with 1 Axes>"
            ]
          },
          "metadata": {},
          "output_type": "display_data"
        }
      ],
      "source": [
        "class GRU(nn.Module):\n",
        "    def __init__(self, hidden_size, input_size = 5, output_size = 1):\n",
        "        super(GRU, self).__init__()\n",
        "        self.gru = nn.GRU(input_size, hidden_size, batch_first=True)\n",
        "        self.reg_head = nn.Linear(hidden_size, output_size)\n",
        "\n",
        "    def forward(self, x):\n",
        "        out, hn = self.gru(x)\n",
        "        out = out[:, -1, :]\n",
        "        reg_out = self.reg_head(out)\n",
        "        return reg_out\n",
        "\n",
        "# Hyperparameters\n",
        "\n",
        "hidden_size = 600\n",
        "num_epochs = 15\n",
        "lr = 1e-4 # Learning rate for the optimizer\n",
        "device = torch.device(\"cuda\" if torch.cuda.is_available() else \"cpu\")\n",
        "batch_size = 512  # Define batch size\n",
        "\n",
        "####################################################################################################################################################################################\n",
        "\n",
        "# Create DataLoaders for training and testing datasets\n",
        "\n",
        "train_loader = DataLoader(train_dataset, batch_size = batch_size, shuffle = False)\n",
        "test_loader = DataLoader(test_dataset, batch_size = batch_size, shuffle = False)\n",
        "\n",
        "####################################################################################################################################################################################\n",
        "\n",
        "# Instantiate model\n",
        "\n",
        "model = GRU(hidden_size).to(device)\n",
        "print(device)\n",
        "optimizer = optim.Adam(model.parameters(), lr=lr)\n",
        "regression_loss_fn = nn.L1Loss()\n",
        "\n",
        "# Total number of parameters\n",
        "total_params = sum(p.numel() for p in model.parameters())\n",
        "\n",
        "# Only trainable parameters\n",
        "trainable_params = sum(p.numel() for p in model.parameters() if p.requires_grad)\n",
        "print(f\"Total parameters: {total_params}\")\n",
        "print(f\"Trainable parameters: {trainable_params}\")\n",
        "\n",
        "####################################################################################################################################################################################\n",
        "\n",
        "loss_list = []\n",
        "\n",
        "# Training loop\n",
        "for epoch in tqdm(range(num_epochs)):\n",
        "    total_loss = 0.0\n",
        "    for batch_x, batch_y_reg in train_loader:\n",
        "        reg_out = model(batch_x)\n",
        "\n",
        "        loss = regression_loss_fn(reg_out, batch_y_reg)\n",
        "\n",
        "        optimizer.zero_grad()\n",
        "        loss.backward()\n",
        "        optimizer.step()\n",
        "\n",
        "        total_loss = total_loss+ loss.item()\n",
        "    print(\"Epoch\", epoch + 1, \"Loss: \", total_loss / len(train_loader))\n",
        "    loss_list.append(total_loss / len(train_loader))\n",
        "\n",
        "# Save the model\n",
        "torch.save(model.state_dict(), 'C:/Users/Vaideeswaran/Documents/ACS Project/Model Weights/gru_highway.pth')\n",
        "\n",
        "# Plot the loss curve\n",
        "\n",
        "plt.plot(loss_list)\n",
        "plt.xlabel('Epochs')\n",
        "plt.ylabel('Loss')\n",
        "plt.title('Training Loss Curve')\n",
        "plt.grid()\n",
        "plt.savefig('C:/Users/Vaideeswaran/Documents/ACS Project/Train Plots/gru_highway_loss_curve.svg')\n",
        "plt.show()"
      ]
    },
    {
      "cell_type": "markdown",
      "metadata": {},
      "source": [
        "## **Testing**"
      ]
    },
    {
      "cell_type": "code",
      "execution_count": 26,
      "metadata": {},
      "outputs": [
        {
          "name": "stderr",
          "output_type": "stream",
          "text": [
            "Testing: 100%|██████████| 15847/15847 [01:14<00:00, 212.64batch/s]\n"
          ]
        },
        {
          "name": "stdout",
          "output_type": "stream",
          "text": [
            "Regression MAE: 0.3954\n"
          ]
        }
      ],
      "source": [
        "model = GRU(hidden_size).to(device)\n",
        "model.load_state_dict(torch.load('C:/Users/Vaideeswaran/Documents/ACS Project/Model Weights/gru_highway.pth'))\n",
        "model.eval()\n",
        "\n",
        "prediction_list = []\n",
        "target_list = []\n",
        "\n",
        "with torch.no_grad():\n",
        "    for x_batch, y_reg_batch in tqdm(test_loader, desc=\"Testing\", unit=\"batch\"):\n",
        "        x_batch = x_batch.to(device)\n",
        "        y_reg_batch = y_reg_batch.to(device)\n",
        "\n",
        "        reg_out = model(x_batch)\n",
        "\n",
        "        # Collect predictions and targets\n",
        "\n",
        "        prediction_list.extend(reg_out.view(-1).cpu().numpy())\n",
        "        target_list.extend(y_reg_batch.view(-1).cpu().numpy())\n",
        "\n",
        "# Compute metrics\n",
        "mae = mean_absolute_error(target_list, prediction_list)\n",
        "print(f\"Regression MAE: {mae:.4f}\")\n",
        "\n",
        "# Save predictions and targets to CSV\n",
        "predictions_df = pd.DataFrame({\n",
        "    'Predictions': prediction_list,\n",
        "    'Targets': target_list,\n",
        "    'Error': abs(np.array(prediction_list) - np.array(target_list))\n",
        "})\n",
        "predictions_df.to_csv('C:/Users/Vaideeswaran/Documents/ACS Project/Performance/gru_highway_predictions.csv', index=False)"
      ]
    },
    {
      "cell_type": "code",
      "execution_count": 27,
      "metadata": {},
      "outputs": [
        {
          "name": "stderr",
          "output_type": "stream",
          "text": [
            "Testing: 100%|██████████| 2930/2930 [00:15<00:00, 194.38batch/s]\n"
          ]
        },
        {
          "name": "stdout",
          "output_type": "stream",
          "text": [
            "Regression MAE: 0.7292\n"
          ]
        }
      ],
      "source": [
        "model = GRU(hidden_size).to(device)\n",
        "model.load_state_dict(torch.load('C:/Users/Vaideeswaran/Documents/ACS Project/Model Weights/gru_highway.pth'))\n",
        "model.eval()\n",
        "\n",
        "prediction_list = []\n",
        "target_list = []\n",
        "\n",
        "with torch.no_grad():\n",
        "    for x_batch, y_reg_batch in tqdm(train_loader, desc=\"Testing\", unit=\"batch\"):\n",
        "        x_batch = x_batch.to(device)\n",
        "        y_reg_batch = y_reg_batch.to(device)\n",
        "\n",
        "        reg_out = model(x_batch)\n",
        "\n",
        "        # Collect predictions and targets\n",
        "\n",
        "        prediction_list.extend(reg_out.view(-1).cpu().numpy())\n",
        "        target_list.extend(y_reg_batch.view(-1).cpu().numpy())\n",
        "\n",
        "# Compute metrics\n",
        "mae = mean_absolute_error(target_list, prediction_list)\n",
        "print(f\"Regression MAE: {mae:.4f}\")\n",
        "\n",
        "# Save predictions and targets to CSV\n",
        "predictions_df = pd.DataFrame({\n",
        "    'Predictions': prediction_list,\n",
        "    'Targets': target_list,\n",
        "    'Error': abs(np.array(prediction_list) - np.array(target_list))\n",
        "})\n",
        "predictions_df.to_csv('C:/Users/Vaideeswaran/Documents/ACS Project/Performance/gru_highway_predictions_train.csv', index=False)"
      ]
    },
    {
      "cell_type": "markdown",
      "metadata": {},
      "source": [
        "# **Transformer**"
      ]
    },
    {
      "cell_type": "markdown",
      "metadata": {},
      "source": [
        "## **Training**"
      ]
    },
    {
      "cell_type": "code",
      "execution_count": 24,
      "metadata": {},
      "outputs": [
        {
          "name": "stdout",
          "output_type": "stream",
          "text": [
            "cuda\n",
            "Total parameters: 1424753\n",
            "Trainable parameters: 1424753\n"
          ]
        },
        {
          "name": "stderr",
          "output_type": "stream",
          "text": [
            " 10%|█         | 1/10 [00:53<08:00, 53.38s/it]"
          ]
        },
        {
          "name": "stdout",
          "output_type": "stream",
          "text": [
            "Epoch 1 Loss:  83.27778855541867\n"
          ]
        },
        {
          "name": "stderr",
          "output_type": "stream",
          "text": [
            " 20%|██        | 2/10 [01:49<07:20, 55.06s/it]"
          ]
        },
        {
          "name": "stdout",
          "output_type": "stream",
          "text": [
            "Epoch 2 Loss:  50.21144787581707\n"
          ]
        },
        {
          "name": "stderr",
          "output_type": "stream",
          "text": [
            " 30%|███       | 3/10 [02:47<06:33, 56.22s/it]"
          ]
        },
        {
          "name": "stdout",
          "output_type": "stream",
          "text": [
            "Epoch 3 Loss:  25.36324130162444\n"
          ]
        },
        {
          "name": "stderr",
          "output_type": "stream",
          "text": [
            " 40%|████      | 4/10 [03:45<05:41, 56.91s/it]"
          ]
        },
        {
          "name": "stdout",
          "output_type": "stream",
          "text": [
            "Epoch 4 Loss:  11.959641225102004\n"
          ]
        },
        {
          "name": "stderr",
          "output_type": "stream",
          "text": [
            " 50%|█████     | 5/10 [05:10<05:36, 67.28s/it]"
          ]
        },
        {
          "name": "stdout",
          "output_type": "stream",
          "text": [
            "Epoch 5 Loss:  2.8765730439192607\n"
          ]
        },
        {
          "name": "stderr",
          "output_type": "stream",
          "text": [
            " 60%|██████    | 6/10 [06:46<05:08, 77.05s/it]"
          ]
        },
        {
          "name": "stdout",
          "output_type": "stream",
          "text": [
            "Epoch 6 Loss:  2.097526438000259\n"
          ]
        },
        {
          "name": "stderr",
          "output_type": "stream",
          "text": [
            " 70%|███████   | 7/10 [07:56<03:43, 74.62s/it]"
          ]
        },
        {
          "name": "stdout",
          "output_type": "stream",
          "text": [
            "Epoch 7 Loss:  1.8668520774450725\n"
          ]
        },
        {
          "name": "stderr",
          "output_type": "stream",
          "text": [
            " 80%|████████  | 8/10 [09:00<02:22, 71.22s/it]"
          ]
        },
        {
          "name": "stdout",
          "output_type": "stream",
          "text": [
            "Epoch 8 Loss:  1.7063840937085526\n"
          ]
        },
        {
          "name": "stderr",
          "output_type": "stream",
          "text": [
            " 90%|█████████ | 9/10 [10:26<01:15, 75.89s/it]"
          ]
        },
        {
          "name": "stdout",
          "output_type": "stream",
          "text": [
            "Epoch 9 Loss:  1.6307114840977834\n"
          ]
        },
        {
          "name": "stderr",
          "output_type": "stream",
          "text": [
            "100%|██████████| 10/10 [11:20<00:00, 68.08s/it]"
          ]
        },
        {
          "name": "stdout",
          "output_type": "stream",
          "text": [
            "Epoch 10 Loss:  1.6797815334878277\n"
          ]
        },
        {
          "name": "stderr",
          "output_type": "stream",
          "text": [
            "\n"
          ]
        },
        {
          "data": {
            "image/png": "[encoded data removed]",
            "text/plain": [
              "<Figure size 640x480 with 1 Axes>"
            ]
          },
          "metadata": {},
          "output_type": "display_data"
        }
      ],
      "source": [
        "class Transformer(nn.Module):\n",
        "    def __init__(self, hidden_size, num_heads, num_layers, input_size = 5, output_size = 1, dropout=0.1):\n",
        "        super(Transformer, self).__init__()\n",
        "\n",
        "        self.input_proj = nn.Linear(input_size, hidden_size)  # project input to model dim\n",
        "        encoder_layer = nn.TransformerEncoderLayer(d_model=hidden_size, nhead=num_heads, dropout=dropout, batch_first=True)\n",
        "        self.transformer_encoder = nn.TransformerEncoder(encoder_layer, num_layers=num_layers)\n",
        "\n",
        "        self.reg_head = nn.Linear(hidden_size, output_size)\n",
        "\n",
        "    def forward(self, x):\n",
        "        x = self.input_proj(x)                     # (batch, seq_len, hidden)\n",
        "        x = self.transformer_encoder(x)            # (batch, seq_len, hidden)\n",
        "        x = x[:, -1, :]                            # take last time step\n",
        "        reg_out = self.reg_head(x)\n",
        "        return reg_out\n",
        "\n",
        "# Hyperparameters\n",
        "\n",
        "hidden_size = 80\n",
        "num_heads = 4\n",
        "num_layers = 4\n",
        "num_epochs = 10\n",
        "lr = 1e-4 # Learning rate for the optimizer\n",
        "batch_size = 512  # Define batch size\n",
        "device = torch.device(\"cuda\" if torch.cuda.is_available() else \"cpu\")\n",
        "\n",
        "####################################################################################################################################################################################\n",
        "\n",
        "# Create DataLoaders for training and testing datasets\n",
        "\n",
        "train_loader = DataLoader(train_dataset, batch_size = batch_size, shuffle = False)\n",
        "test_loader = DataLoader(test_dataset, batch_size = batch_size, shuffle = False)\n",
        "\n",
        "####################################################################################################################################################################################\n",
        "\n",
        "# Instantiate model\n",
        "\n",
        "model = Transformer(hidden_size, num_heads, num_layers).to(device)\n",
        "print(device)\n",
        "optimizer = optim.Adam(model.parameters(), lr=lr)\n",
        "regression_loss_fn = nn.L1Loss()\n",
        "\n",
        "# Total number of parameters\n",
        "\n",
        "total_params = sum(p.numel() for p in model.parameters())\n",
        "\n",
        "# Only trainable parameters\n",
        "\n",
        "trainable_params = sum(p.numel() for p in model.parameters() if p.requires_grad)\n",
        "print(f\"Total parameters: {total_params}\")\n",
        "print(f\"Trainable parameters: {trainable_params}\")\n",
        "\n",
        "####################################################################################################################################################################################\n",
        "\n",
        "loss_list = []\n",
        "\n",
        "# Training loop\n",
        "for epoch in tqdm(range(num_epochs)):\n",
        "    total_loss = 0.0\n",
        "    for batch_x, batch_y_reg in train_loader:\n",
        "        \n",
        "        reg_out = model(batch_x)\n",
        "\n",
        "        loss = regression_loss_fn(reg_out, batch_y_reg)\n",
        "\n",
        "        optimizer.zero_grad()\n",
        "        loss.backward()\n",
        "        optimizer.step()\n",
        "\n",
        "        total_loss = total_loss + loss.item()\n",
        "    print(\"Epoch\", epoch + 1, \"Loss: \", total_loss / len(train_loader))\n",
        "    loss_list.append(total_loss / len(train_loader))\n",
        "\n",
        "# Save the model\n",
        "torch.save(model.state_dict(), 'C:/Users/Vaideeswaran/Documents/ACS Project/Model Weights/transformer_highway.pth')\n",
        "\n",
        "# Plot the loss curve\n",
        "\n",
        "plt.plot(loss_list)\n",
        "plt.xlabel('Epochs')\n",
        "plt.ylabel('Loss')\n",
        "plt.title('Training Loss Curve')\n",
        "plt.grid()\n",
        "plt.savefig('C:/Users/Vaideeswaran/Documents/ACS Project/Train Plots/transformer_highway_loss_curve.svg')\n",
        "plt.show()"
      ]
    },
    {
      "cell_type": "markdown",
      "metadata": {},
      "source": [
        "## **Testing**"
      ]
    },
    {
      "cell_type": "code",
      "execution_count": 26,
      "metadata": {},
      "outputs": [
        {
          "name": "stderr",
          "output_type": "stream",
          "text": [
            "Testing: 100%|██████████| 15847/15847 [03:37<00:00, 72.94batch/s]\n"
          ]
        },
        {
          "name": "stdout",
          "output_type": "stream",
          "text": [
            "Regression MAE: 5.3676\n"
          ]
        }
      ],
      "source": [
        "model = Transformer(hidden_size, num_heads, num_layers).to(device)\n",
        "model.load_state_dict(torch.load('C:/Users/Vaideeswaran/Documents/ACS Project/Model Weights/transformer_highway.pth'))\n",
        "model.eval()\n",
        "\n",
        "prediction_list = []\n",
        "target_list = []\n",
        "\n",
        "with torch.no_grad():\n",
        "    for x_batch, y_reg_batch in tqdm(test_loader, desc=\"Testing\", unit=\"batch\"):\n",
        "        x_batch = x_batch.to(device)\n",
        "        y_reg_batch = y_reg_batch.to(device)\n",
        "\n",
        "        reg_out = model(x_batch)\n",
        "\n",
        "        # Collect predictions and targets\n",
        "\n",
        "        prediction_list.extend(reg_out.view(-1).cpu().numpy())\n",
        "        target_list.extend(y_reg_batch.view(-1).cpu().numpy())\n",
        "\n",
        "# Compute metrics\n",
        "mae = mean_absolute_error(target_list, prediction_list)\n",
        "print(f\"Regression MAE: {mae:.4f}\")\n",
        "\n",
        "# Save predictions and targets to CSV\n",
        "predictions_df = pd.DataFrame({\n",
        "    'Predictions': prediction_list,\n",
        "    'Targets': target_list,\n",
        "    'Error': abs(np.array(prediction_list) - np.array(target_list))\n",
        "})\n",
        "predictions_df.to_csv('C:/Users/Vaideeswaran/Documents/ACS Project/Performance/transformer_highway_predictions.csv', index=False)"
      ]
    },
    {
      "cell_type": "code",
      "execution_count": 27,
      "metadata": {},
      "outputs": [
        {
          "name": "stderr",
          "output_type": "stream",
          "text": [
            "Testing: 100%|██████████| 2930/2930 [00:32<00:00, 90.77batch/s] \n"
          ]
        },
        {
          "name": "stdout",
          "output_type": "stream",
          "text": [
            "Regression MAE: 9.5960\n"
          ]
        }
      ],
      "source": [
        "model = Transformer(hidden_size, num_heads, num_layers).to(device)\n",
        "model.load_state_dict(torch.load('C:/Users/Vaideeswaran/Documents/ACS Project/Model Weights/transformer_highway.pth'))\n",
        "model.eval()\n",
        "\n",
        "prediction_list = []\n",
        "target_list = []\n",
        "\n",
        "with torch.no_grad():\n",
        "    for x_batch, y_reg_batch in tqdm(train_loader, desc=\"Testing\", unit=\"batch\"):\n",
        "        x_batch = x_batch.to(device)\n",
        "        y_reg_batch = y_reg_batch.to(device)\n",
        "\n",
        "        reg_out = model(x_batch)\n",
        "\n",
        "        # Collect predictions and targets\n",
        "\n",
        "        prediction_list.extend(reg_out.view(-1).cpu().numpy())\n",
        "        target_list.extend(y_reg_batch.view(-1).cpu().numpy())\n",
        "\n",
        "# Compute metrics\n",
        "mae = mean_absolute_error(target_list, prediction_list)\n",
        "print(f\"Regression MAE: {mae:.4f}\")\n",
        "\n",
        "# Save predictions and targets to CSV\n",
        "predictions_df = pd.DataFrame({\n",
        "    'Predictions': prediction_list,\n",
        "    'Targets': target_list,\n",
        "    'Error': abs(np.array(prediction_list) - np.array(target_list))\n",
        "})\n",
        "predictions_df.to_csv('C:/Users/Vaideeswaran/Documents/ACS Project/Performance/transformer_highway_predictions_train.csv', index=False)"
      ]
    }
  ],
  "metadata": {
    "colab": {
      "provenance": []
    },
    "kaggle": {
      "accelerator": "none",
      "dataSources": [],
      "dockerImageVersionId": 30786,
      "isGpuEnabled": false,
      "isInternetEnabled": true,
      "language": "python",
      "sourceType": "notebook"
    },
    "kernelspec": {
      "display_name": "base",
      "language": "python",
      "name": "python3"
    },
    "language_info": {
      "codemirror_mode": {
        "name": "ipython",
        "version": 3
      },
      "file_extension": ".py",
      "mimetype": "text/x-python",
      "name": "python",
      "nbconvert_exporter": "python",
      "pygments_lexer": "ipython3",
      "version": "3.12.3"
    }
  },
  "nbformat": 4,
  "nbformat_minor": 0
}
