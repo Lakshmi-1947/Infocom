{
  "cells": [
    {
      "cell_type": "markdown",
      "metadata": {
        "id": "N2gTdDb7WrM1"
      },
      "source": [
        "# **Import the Necessary Libraries**"
      ]
    },
    {
      "cell_type": "code",
      "execution_count": 2,
      "metadata": {
        "_cell_guid": "b1076dfc-b9ad-4769-8c92-a6c4dae69d19",
        "_uuid": "8f2839f25d086af736a60e9eeb907d3b93b6e0e5",
        "execution": {
          "iopub.execute_input": "2024-11-15T17:01:31.939015Z",
          "iopub.status.busy": "2024-11-15T17:01:31.938442Z",
          "iopub.status.idle": "2024-11-15T17:01:45.794378Z",
          "shell.execute_reply": "2024-11-15T17:01:45.792917Z",
          "shell.execute_reply.started": "2024-11-15T17:01:31.938956Z"
        },
        "id": "jz-zsdyHWrM3",
        "trusted": true
      },
      "outputs": [],
      "source": [
        "import numpy as np\n",
        "import matplotlib.pyplot as plt\n",
        "import pandas as pd\n",
        "from tqdm import tqdm\n",
        "import ast\n",
        "import torch\n",
        "import torch.nn as nn\n",
        "import torch.optim as optim\n",
        "from torch.utils.data import TensorDataset, DataLoader\n",
        "from sklearn.metrics import mean_absolute_error"
      ]
    },
    {
      "cell_type": "markdown",
      "metadata": {},
      "source": [
        "# **Load The Train and Test Sets**"
      ]
    },
    {
      "cell_type": "code",
      "execution_count": null,
      "metadata": {},
      "outputs": [
        {
          "name": "stdout",
          "output_type": "stream",
          "text": [
            "Processing data from C:/Users/Vaideeswaran/Documents/ACS Project/Learning Dataset/train_urban_dataset.csv on device: cuda\n"
          ]
        }
      ],
      "source": [
        "\"\"\"\n",
        "\n",
        "Input: The path to the train and test datasets.\n",
        "Output: DataLoaders for the train and test datasets.\n",
        "Functionality:\n",
        "                - Loads the datasets from the specified paths.\n",
        "                - Converts string representations of lists in the 'info_vector' and 'new_state' columns to actual lists.\n",
        "                - Constructs input features (X) as a 5D vector containing coordinates and relative speed.\n",
        "                - Constructs the target variable for regression (y_reg) as the relative speed at t'.\n",
        "                - Constructs the target variable for classification (y_cls) as labels for LOS/NLOS/NLOSv based on the conditions specified.\n",
        "                - Reshapes the input for RNN processing.\n",
        "\n",
        "\"\"\"\n",
        "\n",
        "def process_data(file_path, input_size = 5, seq_len = 1):\n",
        "    df = pd.read_csv(file_path) # Load the dataset\n",
        "    device = torch.device(\"cuda\" if torch.cuda.is_available() else \"cpu\") # Set device for PyTorch\n",
        "    print(f\"Processing data from {file_path} on device: {device}\")\n",
        "\n",
        "    info_vector = [ast.literal_eval(item) for item in df['info_vector']] # Convert string representation of lists to actual lists\n",
        "    new_state = [ast.literal_eval(item) for item in df['new_state']] # Convert string representation of lists to actual lists\n",
        "\n",
        "    # X: input features (5D vector: coord1[x,y], coord2[x,y], rel_speed)\n",
        "    X = torch.tensor([\n",
        "        list(coord1) + list(coord2) + [rel_speed]\n",
        "        for coord1, coord2, rel_speed in info_vector\n",
        "    ], dtype=torch.float32).to(device)  # Convert to tensor and move to device\n",
        "\n",
        "    ################################################################################################################################################################################\n",
        "\n",
        "    # y_reg: relative speed at t'\n",
        "    y_reg = torch.tensor([ns[2] for ns in new_state], dtype=torch.float32).view(-1, 1).to(device)  # Convert to tensor and move to device\n",
        "\n",
        "    ################################################################################################################################################################################\n",
        "\n",
        "    # Reshape input for RNN: [N, seq_len=1, input_size]\n",
        "    X_seq = X.view(-1, seq_len, input_size)\n",
        "\n",
        "    return TensorDataset(X_seq, y_reg)  # Return TensorDataset containing input features and target variable for regression\n",
        "\n",
        "####################################################################################################################################################################################\n",
        "\n",
        "# Path to the train and test datasets\n",
        "\n",
        "train_path = 'C:/Users/Vaideeswaran/Documents/ACS Project/Learning Dataset/train_urban_dataset.csv'\n",
        "test_path = 'C:/Users/Vaideeswaran/Documents/ACS Project/Learning Dataset/test_urban_dataset.csv'\n",
        "\n",
        "# Create DataLoaders\n",
        "train_dataset = process_data(train_path)\n",
        "test_dataset = process_data(test_path)"
      ]
    },
    {
      "cell_type": "markdown",
      "metadata": {},
      "source": [
        "# **RNN**"
      ]
    },
    {
      "cell_type": "markdown",
      "metadata": {},
      "source": [
        "## **Training**"
      ]
    },
    {
      "cell_type": "code",
      "execution_count": 3,
      "metadata": {},
      "outputs": [
        {
          "name": "stdout",
          "output_type": "stream",
          "text": [
            "cuda\n",
            "Total parameters: 1056769\n",
            "Trainable parameters: 1056769\n"
          ]
        },
        {
          "name": "stderr",
          "output_type": "stream",
          "text": [
            " 10%|█         | 1/10 [00:15<02:15, 15.05s/it]"
          ]
        },
        {
          "name": "stdout",
          "output_type": "stream",
          "text": [
            "Epoch 1 Loss:  9.928902317761562\n"
          ]
        },
        {
          "name": "stderr",
          "output_type": "stream",
          "text": [
            " 20%|██        | 2/10 [00:30<02:01, 15.18s/it]"
          ]
        },
        {
          "name": "stdout",
          "output_type": "stream",
          "text": [
            "Epoch 2 Loss:  3.978669892439663\n"
          ]
        },
        {
          "name": "stderr",
          "output_type": "stream",
          "text": [
            " 30%|███       | 3/10 [00:45<01:45, 15.10s/it]"
          ]
        },
        {
          "name": "stdout",
          "output_type": "stream",
          "text": [
            "Epoch 3 Loss:  3.1559893588157237\n"
          ]
        },
        {
          "name": "stderr",
          "output_type": "stream",
          "text": [
            " 40%|████      | 4/10 [01:00<01:30, 15.05s/it]"
          ]
        },
        {
          "name": "stdout",
          "output_type": "stream",
          "text": [
            "Epoch 4 Loss:  2.9573304802077622\n"
          ]
        },
        {
          "name": "stderr",
          "output_type": "stream",
          "text": [
            " 50%|█████     | 5/10 [01:15<01:15, 15.04s/it]"
          ]
        },
        {
          "name": "stdout",
          "output_type": "stream",
          "text": [
            "Epoch 5 Loss:  2.893719836388025\n"
          ]
        },
        {
          "name": "stderr",
          "output_type": "stream",
          "text": [
            " 60%|██████    | 6/10 [01:30<00:59, 14.92s/it]"
          ]
        },
        {
          "name": "stdout",
          "output_type": "stream",
          "text": [
            "Epoch 6 Loss:  2.857147160121605\n"
          ]
        },
        {
          "name": "stderr",
          "output_type": "stream",
          "text": [
            " 70%|███████   | 7/10 [01:44<00:44, 14.93s/it]"
          ]
        },
        {
          "name": "stdout",
          "output_type": "stream",
          "text": [
            "Epoch 7 Loss:  2.8366963073662115\n"
          ]
        },
        {
          "name": "stderr",
          "output_type": "stream",
          "text": [
            " 80%|████████  | 8/10 [01:59<00:29, 14.93s/it]"
          ]
        },
        {
          "name": "stdout",
          "output_type": "stream",
          "text": [
            "Epoch 8 Loss:  2.818950689205131\n"
          ]
        },
        {
          "name": "stderr",
          "output_type": "stream",
          "text": [
            " 90%|█████████ | 9/10 [02:14<00:14, 14.77s/it]"
          ]
        },
        {
          "name": "stdout",
          "output_type": "stream",
          "text": [
            "Epoch 9 Loss:  2.8075949011402326\n"
          ]
        },
        {
          "name": "stderr",
          "output_type": "stream",
          "text": [
            "100%|██████████| 10/10 [02:29<00:00, 14.91s/it]"
          ]
        },
        {
          "name": "stdout",
          "output_type": "stream",
          "text": [
            "Epoch 10 Loss:  2.7948964613289555\n"
          ]
        },
        {
          "name": "stderr",
          "output_type": "stream",
          "text": [
            "\n"
          ]
        },
        {
          "data": {
            "image/png": "[encoded data removed]",
            "text/plain": [
              "<Figure size 640x480 with 1 Axes>"
            ]
          },
          "metadata": {},
          "output_type": "display_data"
        }
      ],
      "source": [
        "class RNN(nn.Module):\n",
        "    def __init__(self, hidden_size, input_size = 5, output_size = 1):\n",
        "        super(RNN, self).__init__()\n",
        "        self.rnn = nn.RNN(\n",
        "            input_size=input_size,\n",
        "            hidden_size=hidden_size,\n",
        "            batch_first=True\n",
        "        )\n",
        "        self.reg_head = nn.Sequential(\n",
        "            nn.Linear(hidden_size, output_size),\n",
        "            nn.ReLU()\n",
        "        )\n",
        "\n",
        "    def forward(self, x):\n",
        "        out, _ = self.rnn(x)\n",
        "        out = out[:, -1, :]  # take the output from the last time step\n",
        "        return self.reg_head(out)\n",
        "\n",
        "\n",
        "# Hyperparameters\n",
        "\n",
        "hidden_size = 1024  # Size of the hidden layer in the RNN\n",
        "num_epochs = 10 # Number of epochs for training\n",
        "lr = 1e-4 # Learning rate for the optimizer\n",
        "device = torch.device(\"cuda\" if torch.cuda.is_available() else \"cpu\")\n",
        "batch_size = 512  # Define batch size\n",
        "\n",
        "####################################################################################################################################################################################\n",
        "\n",
        "# Create DataLoaders for training and testing datasets\n",
        "\n",
        "train_loader = DataLoader(train_dataset, batch_size = batch_size, shuffle = False)\n",
        "test_loader = DataLoader(test_dataset, batch_size = batch_size, shuffle = False)\n",
        "\n",
        "####################################################################################################################################################################################\n",
        "\n",
        "# Instantiate model\n",
        "\n",
        "model = RNN(hidden_size).to(device)\n",
        "print(device)\n",
        "\n",
        "# Total number of parameters\n",
        "total_params = sum(p.numel() for p in model.parameters())\n",
        "\n",
        "# Only trainable parameters\n",
        "trainable_params = sum(p.numel() for p in model.parameters() if p.requires_grad)\n",
        "print(f\"Total parameters: {total_params}\")\n",
        "print(f\"Trainable parameters: {trainable_params}\")\n",
        "\n",
        "####################################################################################################################################################################################\n",
        "\n",
        "optimizer = optim.Adam(model.parameters(), lr=lr)\n",
        "regression_loss_fn = nn.L1Loss()  # Loss function for regression\n",
        "loss_list = []\n",
        "\n",
        "# Training loop\n",
        "for epoch in tqdm(range(num_epochs)):\n",
        "    total_loss = 0.0\n",
        "    for batch_x, batch_y_reg in train_loader:\n",
        "        reg_out = model(batch_x)\n",
        "\n",
        "        loss = regression_loss_fn(reg_out, batch_y_reg)\n",
        "\n",
        "        optimizer.zero_grad()\n",
        "        loss.backward()\n",
        "        optimizer.step()\n",
        "\n",
        "        total_loss = total_loss + loss.item()\n",
        "\n",
        "    print(\"Epoch\", epoch + 1, \"Loss: \", total_loss / len(train_loader))\n",
        "    loss_list.append(total_loss / len(train_loader))\n",
        "\n",
        "# Save the model\n",
        "torch.save(model.state_dict(), 'C:/Users/Vaideeswaran/Documents/ACS Project/Model Weights/rnn_urban.pth')\n",
        "\n",
        "# Plot the loss curve\n",
        "\n",
        "plt.plot(loss_list)\n",
        "plt.xlabel('Epochs')\n",
        "plt.ylabel('Loss')\n",
        "plt.title('Training Loss Curve')\n",
        "plt.grid()\n",
        "plt.savefig('C:/Users/Vaideeswaran/Documents/ACS Project/Train Plots/rnn_urban_loss_curve.svg')\n",
        "plt.show()"
      ]
    },
    {
      "cell_type": "markdown",
      "metadata": {},
      "source": [
        "## **Testing**"
      ]
    },
    {
      "cell_type": "code",
      "execution_count": 4,
      "metadata": {},
      "outputs": [
        {
          "name": "stderr",
          "output_type": "stream",
          "text": [
            "Testing: 100%|██████████| 15444/15444 [01:03<00:00, 244.47batch/s]\n"
          ]
        },
        {
          "name": "stdout",
          "output_type": "stream",
          "text": [
            "Regression MAE: 1.9773\n"
          ]
        }
      ],
      "source": [
        "model = RNN(hidden_size).to(device)\n",
        "model.load_state_dict(torch.load('C:/Users/Vaideeswaran/Documents/ACS Project/Model Weights/rnn_urban.pth'))\n",
        "model.eval()\n",
        "\n",
        "prediction_list = []\n",
        "target_list = []\n",
        "\n",
        "with torch.no_grad():\n",
        "    for x_batch, y_reg_batch in tqdm(test_loader, desc=\"Testing\", unit=\"batch\"):\n",
        "        x_batch = x_batch.to(device)\n",
        "        y_reg_batch = y_reg_batch.to(device)\n",
        "\n",
        "        reg_out = model(x_batch)\n",
        "\n",
        "        prediction_list.extend(reg_out.view(-1).cpu().numpy())\n",
        "        target_list.extend(y_reg_batch.view(-1).cpu().numpy())\n",
        "\n",
        "# Compute metrics\n",
        "mae = mean_absolute_error(target_list, prediction_list)\n",
        "print(f\"Regression MAE: {mae:.4f}\")\n",
        "\n",
        "# Save predictions and targets to CSV\n",
        "predictions_df = pd.DataFrame({\n",
        "    'Predictions': prediction_list,\n",
        "    'Targets': target_list,\n",
        "    'Error': np.abs(np.array(prediction_list) - np.array(target_list))\n",
        "})\n",
        "predictions_df.to_csv('C:/Users/Vaideeswaran/Documents/ACS Project/Performance/rnn_urban_predictions.csv', index=False)"
      ]
    },
    {
      "cell_type": "code",
      "execution_count": 5,
      "metadata": {},
      "outputs": [
        {
          "name": "stderr",
          "output_type": "stream",
          "text": [
            "Testing: 100%|██████████| 2930/2930 [00:11<00:00, 246.90batch/s]\n"
          ]
        },
        {
          "name": "stdout",
          "output_type": "stream",
          "text": [
            "Regression MAE: 2.7975\n"
          ]
        }
      ],
      "source": [
        "model = RNN(hidden_size).to(device)\n",
        "model.load_state_dict(torch.load('C:/Users/Vaideeswaran/Documents/ACS Project/Model Weights/rnn_urban.pth'))\n",
        "model.eval()\n",
        "\n",
        "prediction_list_train = []\n",
        "target_list_train = []\n",
        "\n",
        "with torch.no_grad():\n",
        "    for x_batch, y_reg_batch in tqdm(train_loader, desc=\"Testing\", unit=\"batch\"):\n",
        "        x_batch = x_batch.to(device)\n",
        "        y_reg_batch = y_reg_batch.to(device)\n",
        "\n",
        "        reg_out = model(x_batch)\n",
        "\n",
        "        prediction_list_train.extend(reg_out.view(-1).cpu().numpy())\n",
        "        target_list_train.extend(y_reg_batch.view(-1).cpu().numpy())\n",
        "\n",
        "# Compute metrics\n",
        "mae = mean_absolute_error(target_list_train, prediction_list_train)\n",
        "print(f\"Regression MAE: {mae:.4f}\")\n",
        "\n",
        "# Save predictions and targets to CSV\n",
        "predictions_df = pd.DataFrame({\n",
        "    'Predictions': prediction_list_train,\n",
        "    'Targets': target_list_train,\n",
        "    'Error': np.abs(np.array(prediction_list_train) - np.array(target_list_train))\n",
        "})\n",
        "predictions_df.to_csv('C:/Users/Vaideeswaran/Documents/ACS Project/Performance/rnn_urban_predictions_train.csv', index=False)"
      ]
    },
    {
      "cell_type": "markdown",
      "metadata": {},
      "source": [
        "# **LSTM**"
      ]
    },
    {
      "cell_type": "markdown",
      "metadata": {},
      "source": [
        "## **Training**"
      ]
    },
    {
      "cell_type": "code",
      "execution_count": 6,
      "metadata": {},
      "outputs": [
        {
          "name": "stdout",
          "output_type": "stream",
          "text": [
            "cuda\n",
            "Total parameters: 1063425\n",
            "Trainable parameters: 1063425\n"
          ]
        },
        {
          "name": "stderr",
          "output_type": "stream",
          "text": [
            " 10%|█         | 1/10 [00:15<02:20, 15.58s/it]"
          ]
        },
        {
          "name": "stdout",
          "output_type": "stream",
          "text": [
            "Epoch 1 Loss:  14.255149902093125\n"
          ]
        },
        {
          "name": "stderr",
          "output_type": "stream",
          "text": [
            " 20%|██        | 2/10 [00:31<02:07, 15.96s/it]"
          ]
        },
        {
          "name": "stdout",
          "output_type": "stream",
          "text": [
            "Epoch 2 Loss:  5.3821222424914\n"
          ]
        },
        {
          "name": "stderr",
          "output_type": "stream",
          "text": [
            " 30%|███       | 3/10 [00:49<01:58, 16.93s/it]"
          ]
        },
        {
          "name": "stdout",
          "output_type": "stream",
          "text": [
            "Epoch 3 Loss:  4.302618995908991\n"
          ]
        },
        {
          "name": "stderr",
          "output_type": "stream",
          "text": [
            " 40%|████      | 4/10 [01:07<01:44, 17.35s/it]"
          ]
        },
        {
          "name": "stdout",
          "output_type": "stream",
          "text": [
            "Epoch 4 Loss:  3.52365902357134\n"
          ]
        },
        {
          "name": "stderr",
          "output_type": "stream",
          "text": [
            " 50%|█████     | 5/10 [01:25<01:27, 17.58s/it]"
          ]
        },
        {
          "name": "stdout",
          "output_type": "stream",
          "text": [
            "Epoch 5 Loss:  3.0732691887295696\n"
          ]
        },
        {
          "name": "stderr",
          "output_type": "stream",
          "text": [
            " 60%|██████    | 6/10 [01:45<01:12, 18.21s/it]"
          ]
        },
        {
          "name": "stdout",
          "output_type": "stream",
          "text": [
            "Epoch 6 Loss:  2.88472027034076\n"
          ]
        },
        {
          "name": "stderr",
          "output_type": "stream",
          "text": [
            " 70%|███████   | 7/10 [02:01<00:53, 17.69s/it]"
          ]
        },
        {
          "name": "stdout",
          "output_type": "stream",
          "text": [
            "Epoch 7 Loss:  2.808619409941976\n"
          ]
        },
        {
          "name": "stderr",
          "output_type": "stream",
          "text": [
            " 80%|████████  | 8/10 [02:17<00:34, 17.16s/it]"
          ]
        },
        {
          "name": "stdout",
          "output_type": "stream",
          "text": [
            "Epoch 8 Loss:  2.7682633699410606\n"
          ]
        },
        {
          "name": "stderr",
          "output_type": "stream",
          "text": [
            " 90%|█████████ | 9/10 [02:34<00:16, 16.99s/it]"
          ]
        },
        {
          "name": "stdout",
          "output_type": "stream",
          "text": [
            "Epoch 9 Loss:  2.750493832456374\n"
          ]
        },
        {
          "name": "stderr",
          "output_type": "stream",
          "text": [
            "100%|██████████| 10/10 [02:50<00:00, 17.08s/it]"
          ]
        },
        {
          "name": "stdout",
          "output_type": "stream",
          "text": [
            "Epoch 10 Loss:  2.7384361721549833\n"
          ]
        },
        {
          "name": "stderr",
          "output_type": "stream",
          "text": [
            "\n"
          ]
        },
        {
          "data": {
            "image/png": "[encoded data removed]",
            "text/plain": [
              "<Figure size 640x480 with 1 Axes>"
            ]
          },
          "metadata": {},
          "output_type": "display_data"
        }
      ],
      "source": [
        "class LSTM(nn.Module):\n",
        "    def __init__(self, hidden_size, input_size = 5, output_size = 1):\n",
        "        super(LSTM, self).__init__()\n",
        "        self.lstm = nn.LSTM(input_size, hidden_size, batch_first=True)\n",
        "        self.reg_head = nn.Linear(hidden_size, output_size)\n",
        "\n",
        "    def forward(self, x):\n",
        "        out, (hn, cn) = self.lstm(x)\n",
        "        out = out[:, -1, :]\n",
        "        reg_out = self.reg_head(out)\n",
        "        return reg_out\n",
        "\n",
        "# Hyperparameters\n",
        "\n",
        "hidden_size = 512\n",
        "num_epochs = 10\n",
        "lr = 1e-4 # Learning rate for the optimizer\n",
        "device = torch.device(\"cuda\" if torch.cuda.is_available() else \"cpu\")\n",
        "batch_size = 512  # Define batch size\n",
        "\n",
        "####################################################################################################################################################################################\n",
        "\n",
        "# Create DataLoaders for training and testing datasets\n",
        "\n",
        "train_loader = DataLoader(train_dataset, batch_size = batch_size, shuffle = False)\n",
        "test_loader = DataLoader(test_dataset, batch_size = batch_size, shuffle = False)\n",
        "\n",
        "\n",
        "####################################################################################################################################################################################\n",
        "\n",
        "# Instantiate model\n",
        "\n",
        "model = LSTM(hidden_size).to(device)\n",
        "print(device)\n",
        "optimizer = optim.Adam(model.parameters(), lr=lr)\n",
        "regression_loss_fn = nn.L1Loss()  # Loss function for regression\n",
        "\n",
        "# Total number of parameters\n",
        "total_params = sum(p.numel() for p in model.parameters())\n",
        "\n",
        "# Only trainable parameters\n",
        "trainable_params = sum(p.numel() for p in model.parameters() if p.requires_grad)\n",
        "print(f\"Total parameters: {total_params}\")\n",
        "print(f\"Trainable parameters: {trainable_params}\")\n",
        "\n",
        "####################################################################################################################################################################################\n",
        "\n",
        "loss_list = []\n",
        "\n",
        "# Training loop\n",
        "for epoch in tqdm(range(num_epochs)):\n",
        "    total_loss = 0.0\n",
        "    for batch_x, batch_y_reg in train_loader:\n",
        "        reg_out = model(batch_x)\n",
        "\n",
        "        loss = regression_loss_fn(reg_out, batch_y_reg)\n",
        "\n",
        "        optimizer.zero_grad()\n",
        "        loss.backward()\n",
        "        optimizer.step()\n",
        "\n",
        "        total_loss = total_loss + loss.item()\n",
        "    print(\"Epoch\", epoch + 1, \"Loss: \", total_loss / len(train_loader))\n",
        "    loss_list.append(total_loss / len(train_loader))\n",
        "\n",
        "# Save the model\n",
        "torch.save(model.state_dict(), 'C:/Users/Vaideeswaran/Documents/ACS Project/Model Weights/lstm_urban.pth')\n",
        "\n",
        "# Plot the loss curve\n",
        "plt.plot(loss_list)\n",
        "plt.xlabel('Epochs')\n",
        "plt.ylabel('Loss')\n",
        "plt.title('Training Loss Curve')\n",
        "plt.grid()\n",
        "plt.savefig('C:/Users/Vaideeswaran/Documents/ACS Project/Train Plots/lstm_urban_loss_curve.svg')\n",
        "plt.show()"
      ]
    },
    {
      "cell_type": "markdown",
      "metadata": {},
      "source": [
        "## **Testing**"
      ]
    },
    {
      "cell_type": "code",
      "execution_count": 7,
      "metadata": {},
      "outputs": [
        {
          "name": "stderr",
          "output_type": "stream",
          "text": [
            "Testing: 100%|██████████| 15444/15444 [01:09<00:00, 222.44batch/s]\n"
          ]
        },
        {
          "name": "stdout",
          "output_type": "stream",
          "text": [
            "\n",
            "Test Results:\n",
            "Regression MAE: 1.9643\n"
          ]
        }
      ],
      "source": [
        "model = LSTM(hidden_size).to(device)\n",
        "model.load_state_dict(torch.load('C:/Users/Vaideeswaran/Documents/ACS Project/Model Weights/lstm_urban.pth'))\n",
        "model.eval()\n",
        "\n",
        "all_preds_reg = []\n",
        "all_targets_reg = []\n",
        "\n",
        "with torch.no_grad():\n",
        "    for x_batch, y_reg_batch in tqdm(test_loader, desc=\"Testing\", unit=\"batch\"):\n",
        "        x_batch = x_batch.to(device)\n",
        "        y_reg_batch = y_reg_batch.to(device)\n",
        "\n",
        "        reg_out = model(x_batch)\n",
        "\n",
        "        # Collect predictions and targets\n",
        "\n",
        "        all_preds_reg.extend(reg_out.view(-1).cpu().numpy())\n",
        "        all_targets_reg.extend(y_reg_batch.view(-1).cpu().numpy())\n",
        "\n",
        "# Compute metrics\n",
        "mae = mean_absolute_error(all_targets_reg, all_preds_reg)\n",
        "\n",
        "print(f\"\\nTest Results:\")\n",
        "print(f\"Regression MAE: {mae:.4f}\")\n",
        "\n",
        "# Save predictions and targets to CSV\n",
        "predictions_df = pd.DataFrame({\n",
        "    'Predictions': all_preds_reg,\n",
        "    'Targets': all_targets_reg,\n",
        "    'Error': np.abs(np.array(all_preds_reg) - np.array(all_targets_reg))\n",
        "})\n",
        "predictions_df.to_csv('C:/Users/Vaideeswaran/Documents/ACS Project/Performance/lstm_urban_predictions.csv', index=False)"
      ]
    },
    {
      "cell_type": "code",
      "execution_count": 8,
      "metadata": {},
      "outputs": [
        {
          "name": "stderr",
          "output_type": "stream",
          "text": [
            "Testing: 100%|██████████| 2930/2930 [00:12<00:00, 238.87batch/s]\n"
          ]
        },
        {
          "name": "stdout",
          "output_type": "stream",
          "text": [
            "Regression MAE: 2.7649\n"
          ]
        }
      ],
      "source": [
        "model = LSTM(hidden_size).to(device)\n",
        "model.load_state_dict(torch.load('C:/Users/Vaideeswaran/Documents/ACS Project/Model Weights/lstm_urban.pth'))\n",
        "model.eval()\n",
        "\n",
        "prediction_list_train = []\n",
        "target_list_train = []\n",
        "\n",
        "with torch.no_grad():\n",
        "    for x_batch, y_reg_batch in tqdm(train_loader, desc=\"Testing\", unit=\"batch\"):\n",
        "        x_batch = x_batch.to(device)\n",
        "        y_reg_batch = y_reg_batch.to(device)\n",
        "\n",
        "        reg_out = model(x_batch)\n",
        "\n",
        "        prediction_list_train.extend(reg_out.view(-1).cpu().numpy())\n",
        "        target_list_train.extend(y_reg_batch.view(-1).cpu().numpy())\n",
        "\n",
        "# Compute metrics\n",
        "mae = mean_absolute_error(target_list_train, prediction_list_train)\n",
        "print(f\"Regression MAE: {mae:.4f}\")\n",
        "\n",
        "# Save predictions and targets to CSV\n",
        "predictions_df = pd.DataFrame({\n",
        "    'Predictions': prediction_list_train,\n",
        "    'Targets': target_list_train,\n",
        "    'Error': np.abs(np.array(prediction_list_train) - np.array(target_list_train))\n",
        "})\n",
        "predictions_df.to_csv('C:/Users/Vaideeswaran/Documents/ACS Project/Performance/lstm_urban_predictions_train.csv', index=False)"
      ]
    },
    {
      "cell_type": "markdown",
      "metadata": {},
      "source": [
        "# **GRU**"
      ]
    },
    {
      "cell_type": "markdown",
      "metadata": {},
      "source": [
        "## **Training**"
      ]
    },
    {
      "cell_type": "code",
      "execution_count": 10,
      "metadata": {},
      "outputs": [
        {
          "name": "stdout",
          "output_type": "stream",
          "text": [
            "cuda\n",
            "Total parameters: 1093201\n",
            "Trainable parameters: 1093201\n"
          ]
        },
        {
          "name": "stderr",
          "output_type": "stream",
          "text": [
            " 10%|█         | 1/10 [00:19<02:52, 19.17s/it]"
          ]
        },
        {
          "name": "stdout",
          "output_type": "stream",
          "text": [
            "Epoch 1 Loss:  11.830307531194068\n"
          ]
        },
        {
          "name": "stderr",
          "output_type": "stream",
          "text": [
            " 20%|██        | 2/10 [00:40<02:42, 20.37s/it]"
          ]
        },
        {
          "name": "stdout",
          "output_type": "stream",
          "text": [
            "Epoch 2 Loss:  5.081341979324614\n"
          ]
        },
        {
          "name": "stderr",
          "output_type": "stream",
          "text": [
            " 30%|███       | 3/10 [00:59<02:19, 19.87s/it]"
          ]
        },
        {
          "name": "stdout",
          "output_type": "stream",
          "text": [
            "Epoch 3 Loss:  4.193103636653757\n"
          ]
        },
        {
          "name": "stderr",
          "output_type": "stream",
          "text": [
            " 40%|████      | 4/10 [01:18<01:55, 19.27s/it]"
          ]
        },
        {
          "name": "stdout",
          "output_type": "stream",
          "text": [
            "Epoch 4 Loss:  3.5558259690987777\n"
          ]
        },
        {
          "name": "stderr",
          "output_type": "stream",
          "text": [
            " 50%|█████     | 5/10 [01:37<01:36, 19.35s/it]"
          ]
        },
        {
          "name": "stdout",
          "output_type": "stream",
          "text": [
            "Epoch 5 Loss:  3.1799745198402793\n"
          ]
        },
        {
          "name": "stderr",
          "output_type": "stream",
          "text": [
            " 60%|██████    | 6/10 [01:55<01:15, 18.96s/it]"
          ]
        },
        {
          "name": "stdout",
          "output_type": "stream",
          "text": [
            "Epoch 6 Loss:  2.977109377620163\n"
          ]
        },
        {
          "name": "stderr",
          "output_type": "stream",
          "text": [
            " 70%|███████   | 7/10 [02:13<00:55, 18.52s/it]"
          ]
        },
        {
          "name": "stdout",
          "output_type": "stream",
          "text": [
            "Epoch 7 Loss:  2.8879522736975765\n"
          ]
        },
        {
          "name": "stderr",
          "output_type": "stream",
          "text": [
            " 80%|████████  | 8/10 [02:31<00:36, 18.36s/it]"
          ]
        },
        {
          "name": "stdout",
          "output_type": "stream",
          "text": [
            "Epoch 8 Loss:  2.8394323560971855\n"
          ]
        },
        {
          "name": "stderr",
          "output_type": "stream",
          "text": [
            " 90%|█████████ | 9/10 [02:49<00:18, 18.17s/it]"
          ]
        },
        {
          "name": "stdout",
          "output_type": "stream",
          "text": [
            "Epoch 9 Loss:  2.8025280919905002\n"
          ]
        },
        {
          "name": "stderr",
          "output_type": "stream",
          "text": [
            "100%|██████████| 10/10 [03:06<00:00, 18.70s/it]"
          ]
        },
        {
          "name": "stdout",
          "output_type": "stream",
          "text": [
            "Epoch 10 Loss:  2.7864641580158533\n"
          ]
        },
        {
          "name": "stderr",
          "output_type": "stream",
          "text": [
            "\n"
          ]
        },
        {
          "data": {
            "image/png": "[encoded data removed]",
            "text/plain": [
              "<Figure size 640x480 with 1 Axes>"
            ]
          },
          "metadata": {},
          "output_type": "display_data"
        }
      ],
      "source": [
        "class GRU(nn.Module):\n",
        "    def __init__(self, hidden_size, input_size = 5, output_size = 1):\n",
        "        super(GRU, self).__init__()\n",
        "        self.gru = nn.GRU(input_size, hidden_size, batch_first=True)\n",
        "        self.reg_head = nn.Linear(hidden_size, output_size)\n",
        "\n",
        "    def forward(self, x):\n",
        "        out, hn = self.gru(x)\n",
        "        out = out[:, -1, :]\n",
        "        reg_out = self.reg_head(out)\n",
        "        return reg_out\n",
        "\n",
        "# Hyperparameters\n",
        "\n",
        "hidden_size = 600\n",
        "num_epochs = 10\n",
        "lr = 1e-4 # Learning rate for the optimizer\n",
        "device = torch.device(\"cuda\" if torch.cuda.is_available() else \"cpu\")\n",
        "batch_size = 512  # Define batch size\n",
        "\n",
        "####################################################################################################################################################################################\n",
        "\n",
        "# Create DataLoaders for training and testing datasets\n",
        "\n",
        "train_loader = DataLoader(train_dataset, batch_size = batch_size, shuffle = False)\n",
        "test_loader = DataLoader(test_dataset, batch_size = batch_size, shuffle = False)\n",
        "\n",
        "####################################################################################################################################################################################\n",
        "\n",
        "# Instantiate model\n",
        "\n",
        "model = GRU(hidden_size).to(device)\n",
        "print(device)\n",
        "optimizer = optim.Adam(model.parameters(), lr=lr)\n",
        "regression_loss_fn = nn.L1Loss()  # Loss function for regression\n",
        "\n",
        "# Total number of parameters\n",
        "total_params = sum(p.numel() for p in model.parameters())\n",
        "\n",
        "# Only trainable parameters\n",
        "trainable_params = sum(p.numel() for p in model.parameters() if p.requires_grad)\n",
        "print(f\"Total parameters: {total_params}\")\n",
        "print(f\"Trainable parameters: {trainable_params}\")\n",
        "\n",
        "####################################################################################################################################################################################\n",
        "\n",
        "loss_list = []\n",
        "\n",
        "# Training loop\n",
        "for epoch in tqdm(range(num_epochs)):\n",
        "    total_loss = 0.0\n",
        "    for batch_x, batch_y_reg in train_loader:\n",
        "        reg_out = model(batch_x)\n",
        "\n",
        "        loss = regression_loss_fn(reg_out, batch_y_reg)\n",
        "\n",
        "        optimizer.zero_grad()\n",
        "        loss.backward()\n",
        "        optimizer.step()\n",
        "\n",
        "        total_loss = total_loss+ loss.item()\n",
        "    print(\"Epoch\", epoch + 1, \"Loss: \", total_loss / len(train_loader))\n",
        "    loss_list.append(total_loss / len(train_loader))\n",
        "\n",
        "# Save the model\n",
        "torch.save(model.state_dict(), 'C:/Users/Vaideeswaran/Documents/ACS Project/Model Weights/gru_urban.pth')\n",
        "\n",
        "# Plot the loss curve\n",
        "\n",
        "plt.plot(loss_list)\n",
        "plt.xlabel('Epochs')\n",
        "plt.ylabel('Loss')\n",
        "plt.title('Training Loss Curve')\n",
        "plt.grid()\n",
        "plt.savefig('C:/Users/Vaideeswaran/Documents/ACS Project/Train Plots/gru_urban_loss_curve.svg')\n",
        "plt.show()"
      ]
    },
    {
      "cell_type": "markdown",
      "metadata": {},
      "source": [
        "## **Testing**"
      ]
    },
    {
      "cell_type": "code",
      "execution_count": 11,
      "metadata": {},
      "outputs": [
        {
          "name": "stderr",
          "output_type": "stream",
          "text": [
            "Testing: 100%|██████████| 15444/15444 [01:11<00:00, 215.92batch/s]\n"
          ]
        },
        {
          "name": "stdout",
          "output_type": "stream",
          "text": [
            "\n",
            "Test Results:\n",
            "Regression MAE: 1.9447\n"
          ]
        }
      ],
      "source": [
        "model = GRU(hidden_size).to(device)\n",
        "model.load_state_dict(torch.load('C:/Users/Vaideeswaran/Documents/ACS Project/Model Weights/gru_urban.pth'))\n",
        "model.eval()\n",
        "\n",
        "all_preds_reg = []\n",
        "all_targets_reg = []\n",
        "\n",
        "with torch.no_grad():\n",
        "    for x_batch, y_reg_batch in tqdm(test_loader, desc=\"Testing\", unit=\"batch\"):\n",
        "        x_batch = x_batch.to(device)\n",
        "        y_reg_batch = y_reg_batch.to(device)\n",
        "\n",
        "        reg_out = model(x_batch)\n",
        "\n",
        "        # Collect predictions and targets\n",
        "\n",
        "        all_preds_reg.extend(reg_out.view(-1).cpu().numpy())\n",
        "        all_targets_reg.extend(y_reg_batch.view(-1).cpu().numpy())\n",
        "\n",
        "# Compute metrics\n",
        "mae = mean_absolute_error(all_targets_reg, all_preds_reg)\n",
        "\n",
        "print(f\"\\nTest Results:\")\n",
        "print(f\"Regression MAE: {mae:.4f}\")\n",
        "# Save predictions and targets to CSV\n",
        "predictions_df = pd.DataFrame({\n",
        "    'Predictions': all_preds_reg,\n",
        "    'Targets': all_targets_reg,\n",
        "    'Error': np.abs(np.array(all_preds_reg) - np.array(all_targets_reg))\n",
        "})\n",
        "predictions_df.to_csv('C:/Users/Vaideeswaran/Documents/ACS Project/Performance/gru_urban_predictions.csv', index=False)"
      ]
    },
    {
      "cell_type": "code",
      "execution_count": 12,
      "metadata": {},
      "outputs": [
        {
          "name": "stderr",
          "output_type": "stream",
          "text": [
            "Testing: 100%|██████████| 2930/2930 [00:13<00:00, 220.50batch/s]\n"
          ]
        },
        {
          "name": "stdout",
          "output_type": "stream",
          "text": [
            "Regression MAE: 2.7536\n"
          ]
        }
      ],
      "source": [
        "model = GRU(hidden_size).to(device)\n",
        "model.load_state_dict(torch.load('C:/Users/Vaideeswaran/Documents/ACS Project/Model Weights/gru_urban.pth'))\n",
        "model.eval()\n",
        "\n",
        "prediction_list_train = []\n",
        "target_list_train = []\n",
        "\n",
        "with torch.no_grad():\n",
        "    for x_batch, y_reg_batch in tqdm(train_loader, desc=\"Testing\", unit=\"batch\"):\n",
        "        x_batch = x_batch.to(device)\n",
        "        y_reg_batch = y_reg_batch.to(device)\n",
        "\n",
        "        reg_out = model(x_batch)\n",
        "\n",
        "        prediction_list_train.extend(reg_out.view(-1).cpu().numpy())\n",
        "        target_list_train.extend(y_reg_batch.view(-1).cpu().numpy())\n",
        "\n",
        "# Compute metrics\n",
        "mae = mean_absolute_error(target_list_train, prediction_list_train)\n",
        "print(f\"Regression MAE: {mae:.4f}\")\n",
        "\n",
        "# Save predictions and targets to CSV\n",
        "predictions_df = pd.DataFrame({\n",
        "    'Predictions': prediction_list_train,\n",
        "    'Targets': target_list_train,\n",
        "    'Error': np.abs(np.array(prediction_list_train) - np.array(target_list_train))\n",
        "})\n",
        "predictions_df.to_csv('C:/Users/Vaideeswaran/Documents/ACS Project/Performance/gru_urban_predictions_train.csv', index=False)"
      ]
    },
    {
      "cell_type": "markdown",
      "metadata": {},
      "source": [
        "# **Transformer**"
      ]
    },
    {
      "cell_type": "markdown",
      "metadata": {},
      "source": [
        "## **Training**"
      ]
    },
    {
      "cell_type": "code",
      "execution_count": 15,
      "metadata": {},
      "outputs": [
        {
          "name": "stdout",
          "output_type": "stream",
          "text": [
            "cuda\n",
            "Total parameters: 1125057\n",
            "Trainable parameters: 1125057\n"
          ]
        },
        {
          "name": "stderr",
          "output_type": "stream",
          "text": [
            " 10%|█         | 1/10 [01:10<10:31, 70.14s/it]"
          ]
        },
        {
          "name": "stdout",
          "output_type": "stream",
          "text": [
            "Epoch 1 Loss:  18.646903218140782\n"
          ]
        },
        {
          "name": "stderr",
          "output_type": "stream",
          "text": [
            " 20%|██        | 2/10 [02:17<09:08, 68.62s/it]"
          ]
        },
        {
          "name": "stdout",
          "output_type": "stream",
          "text": [
            "Epoch 2 Loss:  5.728085737301628\n"
          ]
        },
        {
          "name": "stderr",
          "output_type": "stream",
          "text": [
            " 30%|███       | 3/10 [03:28<08:08, 69.73s/it]"
          ]
        },
        {
          "name": "stdout",
          "output_type": "stream",
          "text": [
            "Epoch 3 Loss:  5.030200883491861\n"
          ]
        },
        {
          "name": "stderr",
          "output_type": "stream",
          "text": [
            " 40%|████      | 4/10 [04:36<06:52, 68.76s/it]"
          ]
        },
        {
          "name": "stdout",
          "output_type": "stream",
          "text": [
            "Epoch 4 Loss:  4.657923722165436\n"
          ]
        },
        {
          "name": "stderr",
          "output_type": "stream",
          "text": [
            " 50%|█████     | 5/10 [05:48<05:50, 70.13s/it]"
          ]
        },
        {
          "name": "stdout",
          "output_type": "stream",
          "text": [
            "Epoch 5 Loss:  4.3938633909404485\n"
          ]
        },
        {
          "name": "stderr",
          "output_type": "stream",
          "text": [
            " 60%|██████    | 6/10 [07:05<04:49, 72.49s/it]"
          ]
        },
        {
          "name": "stdout",
          "output_type": "stream",
          "text": [
            "Epoch 6 Loss:  4.150505402551983\n"
          ]
        },
        {
          "name": "stderr",
          "output_type": "stream",
          "text": [
            " 70%|███████   | 7/10 [08:20<03:39, 73.29s/it]"
          ]
        },
        {
          "name": "stdout",
          "output_type": "stream",
          "text": [
            "Epoch 7 Loss:  3.79177083932499\n"
          ]
        },
        {
          "name": "stderr",
          "output_type": "stream",
          "text": [
            " 80%|████████  | 8/10 [09:35<02:27, 73.76s/it]"
          ]
        },
        {
          "name": "stdout",
          "output_type": "stream",
          "text": [
            "Epoch 8 Loss:  3.4643595395641524\n"
          ]
        },
        {
          "name": "stderr",
          "output_type": "stream",
          "text": [
            " 90%|█████████ | 9/10 [11:16<01:22, 82.26s/it]"
          ]
        },
        {
          "name": "stdout",
          "output_type": "stream",
          "text": [
            "Epoch 9 Loss:  3.263295703109214\n"
          ]
        },
        {
          "name": "stderr",
          "output_type": "stream",
          "text": [
            "100%|██████████| 10/10 [12:27<00:00, 74.73s/it]"
          ]
        },
        {
          "name": "stdout",
          "output_type": "stream",
          "text": [
            "Epoch 10 Loss:  3.1496146125598163\n"
          ]
        },
        {
          "name": "stderr",
          "output_type": "stream",
          "text": [
            "\n"
          ]
        },
        {
          "data": {
            "image/png": "[encoded data removed]",
            "text/plain": [
              "<Figure size 640x480 with 1 Axes>"
            ]
          },
          "metadata": {},
          "output_type": "display_data"
        }
      ],
      "source": [
        "class Transformer(nn.Module):\n",
        "    def __init__(self, hidden_size, num_heads, num_layers, input_size = 5, output_size = 1, dropout=0.1):\n",
        "        super(Transformer, self).__init__()\n",
        "\n",
        "        self.input_proj = nn.Linear(input_size, hidden_size)  # project input to model dim\n",
        "        encoder_layer = nn.TransformerEncoderLayer(d_model=hidden_size, nhead=num_heads, dropout=dropout, batch_first=True)\n",
        "        self.transformer_encoder = nn.TransformerEncoder(encoder_layer, num_layers=num_layers)\n",
        "\n",
        "        self.reg_head = nn.Linear(hidden_size, output_size)\n",
        "\n",
        "    def forward(self, x):\n",
        "        x = self.input_proj(x)                     # (batch, seq_len, hidden)\n",
        "        x = self.transformer_encoder(x)            # (batch, seq_len, hidden)\n",
        "        x = x[:, -1, :]                            # take last time step\n",
        "        reg_out = self.reg_head(x)\n",
        "        return reg_out\n",
        "\n",
        "# Hyperparameters\n",
        "\n",
        "hidden_size = 64\n",
        "num_heads = 4\n",
        "num_layers = 4\n",
        "num_epochs = 10\n",
        "lr = 1e-4 # Learning rate for the optimizer\n",
        "batch_size = 256  # Define batch size\n",
        "device = torch.device(\"cuda\" if torch.cuda.is_available() else \"cpu\")\n",
        "\n",
        "####################################################################################################################################################################################\n",
        "\n",
        "# Create DataLoaders for training and testing datasets\n",
        "\n",
        "train_loader = DataLoader(train_dataset, batch_size = batch_size, shuffle = False)\n",
        "test_loader = DataLoader(test_dataset, batch_size = batch_size, shuffle = False)\n",
        "\n",
        "####################################################################################################################################################################################\n",
        "\n",
        "# Instantiate model\n",
        "\n",
        "model = Transformer(hidden_size, num_heads, num_layers).to(device)\n",
        "print(device)\n",
        "optimizer = optim.Adam(model.parameters(), lr=lr)\n",
        "regression_loss_fn = nn.L1Loss()  # Loss function for regression\n",
        "\n",
        "# Total number of parameters\n",
        "\n",
        "total_params = sum(p.numel() for p in model.parameters())\n",
        "\n",
        "# Only trainable parameters\n",
        "\n",
        "trainable_params = sum(p.numel() for p in model.parameters() if p.requires_grad)\n",
        "print(f\"Total parameters: {total_params}\")\n",
        "print(f\"Trainable parameters: {trainable_params}\")\n",
        "\n",
        "####################################################################################################################################################################################\n",
        "\n",
        "loss_list = []\n",
        "\n",
        "# Training loop\n",
        "for epoch in tqdm(range(num_epochs)):\n",
        "    total_loss = 0.0\n",
        "    for batch_x, batch_y_reg in train_loader:\n",
        "        \n",
        "        reg_out = model(batch_x)\n",
        "\n",
        "        loss = regression_loss_fn(reg_out, batch_y_reg)\n",
        "\n",
        "        optimizer.zero_grad()\n",
        "        loss.backward()\n",
        "        optimizer.step()\n",
        "\n",
        "        total_loss = total_loss + loss.item()\n",
        "    print(\"Epoch\", epoch + 1, \"Loss: \", total_loss / len(train_loader))\n",
        "    loss_list.append(total_loss / len(train_loader))\n",
        "\n",
        "# Save the model\n",
        "torch.save(model.state_dict(), 'C:/Users/Vaideeswaran/Documents/ACS Project/Model Weights/transformer_urban.pth')\n",
        "\n",
        "# Plot the loss curve\n",
        "\n",
        "plt.plot(loss_list)\n",
        "plt.xlabel('Epochs')\n",
        "plt.ylabel('Loss')\n",
        "plt.title('Training Loss Curve')\n",
        "plt.grid()\n",
        "plt.savefig('C:/Users/Vaideeswaran/Documents/ACS Project/Train Plots/transformer_urban_loss_curve.svg')\n",
        "plt.show()"
      ]
    },
    {
      "cell_type": "markdown",
      "metadata": {},
      "source": [
        "## **Testing**"
      ]
    },
    {
      "cell_type": "code",
      "execution_count": 16,
      "metadata": {},
      "outputs": [
        {
          "name": "stderr",
          "output_type": "stream",
          "text": [
            "Testing: 100%|██████████| 30888/30888 [02:10<00:00, 237.30batch/s]\n"
          ]
        },
        {
          "name": "stdout",
          "output_type": "stream",
          "text": [
            "\n",
            "Test Results:\n",
            "Regression MAE: 2.2052\n"
          ]
        }
      ],
      "source": [
        "model = Transformer(hidden_size, num_heads, num_layers).to(device)\n",
        "model.load_state_dict(torch.load('C:/Users/Vaideeswaran/Documents/ACS Project/Model Weights/transformer_urban.pth'))\n",
        "model.eval()\n",
        "\n",
        "all_preds_reg = []\n",
        "all_targets_reg = []\n",
        "\n",
        "with torch.no_grad():\n",
        "    for x_batch, y_reg_batch in tqdm(test_loader, desc=\"Testing\", unit=\"batch\"):\n",
        "        x_batch = x_batch.to(device)\n",
        "        y_reg_batch = y_reg_batch.to(device)\n",
        "\n",
        "        reg_out = model(x_batch)\n",
        "\n",
        "        # Collect predictions and targets\n",
        "\n",
        "        all_preds_reg.extend(reg_out.view(-1).cpu().numpy())\n",
        "        all_targets_reg.extend(y_reg_batch.view(-1).cpu().numpy())\n",
        "\n",
        "# Compute metrics\n",
        "mae = mean_absolute_error(all_targets_reg, all_preds_reg)\n",
        "\n",
        "print(f\"\\nTest Results:\")\n",
        "print(f\"Regression MAE: {mae:.4f}\")\n",
        "\n",
        "# Save predictions and targets to CSV\n",
        "predictions_df = pd.DataFrame({\n",
        "    'Predictions': all_preds_reg,\n",
        "    'Targets': all_targets_reg,\n",
        "    'Error': np.abs(np.array(all_preds_reg) - np.array(all_targets_reg))\n",
        "})\n",
        "predictions_df.to_csv('C:/Users/Vaideeswaran/Documents/ACS Project/Performance/transformer_urban_predictions.csv', index=False)"
      ]
    },
    {
      "cell_type": "code",
      "execution_count": 17,
      "metadata": {},
      "outputs": [
        {
          "name": "stderr",
          "output_type": "stream",
          "text": [
            "Testing: 100%|██████████| 5860/5860 [00:24<00:00, 237.92batch/s]\n"
          ]
        },
        {
          "name": "stdout",
          "output_type": "stream",
          "text": [
            "Regression MAE: 3.1651\n"
          ]
        }
      ],
      "source": [
        "model = Transformer(hidden_size, num_heads, num_layers).to(device)\n",
        "model.load_state_dict(torch.load('C:/Users/Vaideeswaran/Documents/ACS Project/Model Weights/transformer_urban.pth'))\n",
        "model.eval()\n",
        "\n",
        "prediction_list_train = []\n",
        "target_list_train = []\n",
        "\n",
        "with torch.no_grad():\n",
        "    for x_batch, y_reg_batch in tqdm(train_loader, desc=\"Testing\", unit=\"batch\"):\n",
        "        x_batch = x_batch.to(device)\n",
        "        y_reg_batch = y_reg_batch.to(device)\n",
        "\n",
        "        reg_out = model(x_batch)\n",
        "\n",
        "        prediction_list_train.extend(reg_out.view(-1).cpu().numpy())\n",
        "        target_list_train.extend(y_reg_batch.view(-1).cpu().numpy())\n",
        "\n",
        "# Compute metrics\n",
        "mae = mean_absolute_error(target_list_train, prediction_list_train)\n",
        "print(f\"Regression MAE: {mae:.4f}\")\n",
        "\n",
        "# Save predictions and targets to CSV\n",
        "predictions_df = pd.DataFrame({\n",
        "    'Predictions': prediction_list_train,\n",
        "    'Targets': target_list_train,\n",
        "    'Error': np.abs(np.array(prediction_list_train) - np.array(target_list_train))\n",
        "})\n",
        "predictions_df.to_csv('C:/Users/Vaideeswaran/Documents/ACS Project/Performance/transformer_urban_predictions_train.csv', index=False)"
      ]
    },
    {
      "cell_type": "code",
      "execution_count": 46,
      "metadata": {},
      "outputs": [
        {
          "name": "stderr",
          "output_type": "stream",
          "text": [
            "Testing: 100%|██████████| 15899/15899 [01:13<00:00, 216.40batch/s]\n"
          ]
        },
        {
          "name": "stdout",
          "output_type": "stream",
          "text": [
            "Baseline (mean predictor) MSE: 25.0520\n"
          ]
        }
      ],
      "source": [
        "all_targets_reg = []\n",
        "\n",
        "with torch.no_grad():\n",
        "    for x_batch, y_reg_batch in tqdm(test_loader, desc=\"Testing\", unit=\"batch\"):\n",
        "        all_targets_reg.extend(y_reg_batch.view(-1).cpu().numpy())\n",
        "mean_target = np.mean(all_targets_reg)\n",
        "baseline_mae = np.mean(np.abs(all_targets_reg - mean_target))\n",
        "print(f'Baseline (mean predictor) MSE: {baseline_mae:.4f}')"
      ]
    }
  ],
  "metadata": {
    "colab": {
      "provenance": []
    },
    "kaggle": {
      "accelerator": "none",
      "dataSources": [],
      "dockerImageVersionId": 30786,
      "isGpuEnabled": false,
      "isInternetEnabled": true,
      "language": "python",
      "sourceType": "notebook"
    },
    "kernelspec": {
      "display_name": "base",
      "language": "python",
      "name": "python3"
    },
    "language_info": {
      "codemirror_mode": {
        "name": "ipython",
        "version": 3
      },
      "file_extension": ".py",
      "mimetype": "text/x-python",
      "name": "python",
      "nbconvert_exporter": "python",
      "pygments_lexer": "ipython3",
      "version": "3.12.3"
    }
  },
  "nbformat": 4,
  "nbformat_minor": 0
}
