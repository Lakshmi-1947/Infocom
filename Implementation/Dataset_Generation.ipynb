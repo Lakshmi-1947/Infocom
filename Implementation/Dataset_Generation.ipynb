{
  "cells": [
    {
      "cell_type": "markdown",
      "metadata": {
        "id": "N2gTdDb7WrM1"
      },
      "source": [
        "# **Import the Necessary Libraries**"
      ]
    },
    {
      "cell_type": "code",
      "execution_count": 1,
      "metadata": {
        "_cell_guid": "b1076dfc-b9ad-4769-8c92-a6c4dae69d19",
        "_uuid": "8f2839f25d086af736a60e9eeb907d3b93b6e0e5",
        "execution": {
          "iopub.execute_input": "2024-11-15T17:01:31.939015Z",
          "iopub.status.busy": "2024-11-15T17:01:31.938442Z",
          "iopub.status.idle": "2024-11-15T17:01:45.794378Z",
          "shell.execute_reply": "2024-11-15T17:01:45.792917Z",
          "shell.execute_reply.started": "2024-11-15T17:01:31.938956Z"
        },
        "id": "jz-zsdyHWrM3",
        "trusted": true
      },
      "outputs": [],
      "source": [
        "import numpy as np\n",
        "import pandas as pd\n",
        "from itertools import combinations\n",
        "from collections import defaultdict\n",
        "import ast\n",
        "from tqdm import tqdm\n",
        "import matplotlib.pyplot as plt"
      ]
    },
    {
      "cell_type": "markdown",
      "metadata": {
        "id": "pTh5z3QmWrM4"
      },
      "source": [
        "# **Read The CSV File With The Coordinates & Speeds**"
      ]
    },
    {
      "cell_type": "code",
      "execution_count": 2,
      "metadata": {
        "execution": {
          "iopub.execute_input": "2024-11-15T17:02:04.361196Z",
          "iopub.status.busy": "2024-11-15T17:02:04.359756Z",
          "iopub.status.idle": "2024-11-15T17:02:04.382306Z",
          "shell.execute_reply": "2024-11-15T17:02:04.381045Z",
          "shell.execute_reply.started": "2024-11-15T17:02:04.361137Z"
        },
        "id": "eFJjEmF7WrM4",
        "trusted": true
      },
      "outputs": [],
      "source": [
        "\"\"\"\n",
        "\n",
        "Input: path to the excel file containing vehicle data based on SUMO simulation\n",
        "Output: Dictionary with vehicle IDs as keys and their coordinates, speeds, and their street locations as values\n",
        "Functionality:\n",
        "                - Reads the excel file containing vehicle data.\n",
        "                - Parses the coordinates and speeds from the 'coord' and 'spd' columns.\n",
        "                - Groups the data by vehicle ID, storing the coordinates and speeds as tuples in a list.\n",
        "\n",
        "\"\"\"\n",
        "\n",
        "def get_vehicle_data(path, scenario='highway'):\n",
        "\n",
        "    data = pd.read_excel(path) # Read the excel file containing vehicle data\n",
        "    vehicle_data = {} # Initialize an empty dictionary to store vehicle data\n",
        "\n",
        "    coordinates = data['coord'].apply(ast.literal_eval).tolist() # Convert string representation of lists to actual lists\n",
        "    speeds = data['spd'].tolist() # Extract speeds from the dataframe\n",
        "    street = data['edge'].tolist() # Extract street information from the dataframe\n",
        "\n",
        "    for i in range(len(data)):\n",
        "        vehicle_id = data['vehid'][i] # Extract vehicle ID from the dataframe\n",
        "        if vehicle_id not in vehicle_data: # If the vehicle ID is not already in the dictionary, initialize it\n",
        "            vehicle_data[vehicle_id] = {\n",
        "                'coord, speed': []\n",
        "            }\n",
        "\n",
        "        vehicle_data[vehicle_id]['coord, speed'].append((coordinates[i], speeds[i])) # Append the coordinates and speed as a tuple to the list for that vehicle ID\n",
        "        \n",
        "        if scenario != 'highway': # If the scenario is not highway, store the street information\n",
        "            vehicle_data[vehicle_id]['edge'] = street[i] # Store the street information for that vehicle ID\n",
        "\n",
        "    return vehicle_data\n",
        "\n",
        "####################################################################################################################################################################################\n",
        "\n",
        "# Test the code here with the provided paths\n",
        "\n",
        "# Highway data paths\n",
        "\n",
        "vehicle_data_245 = get_vehicle_data('C:/Users/Vaideeswaran/Documents/ACS Project/traces/3km_highway_70kmph_245vh/output.xlsx')\n",
        "vehicle_data_123 = get_vehicle_data('C:/Users/Vaideeswaran/Documents/ACS Project/traces/3km_highway_140kmph_123vh/output.xlsx')\n",
        "\n",
        "# Urban data paths\n",
        "\n",
        "# vehicle_data_100 = get_vehicle_data('C:/Users/Vaideeswaran/Documents/ACS Project/traces/urban_60kmph_100vh/output.xlsx', scenario = 'Urban')\n",
        "# vehicle_data_200 = get_vehicle_data('C:/Users/Vaideeswaran/Documents/ACS Project/traces/urban_60kmph_200vh/output.xlsx', scenario = 'Urban')\n",
        "# vehicle_data_300 = get_vehicle_data('C:/Users/Vaideeswaran/Documents/ACS Project/traces/urban_60kmph_300vh/output.xlsx', scenario = 'Urban')"
      ]
    },
    {
      "cell_type": "markdown",
      "metadata": {},
      "source": [
        "## **Velocity Extraction**"
      ]
    },
    {
      "cell_type": "code",
      "execution_count": 3,
      "metadata": {
        "id": "F_t1ukhxyqJy"
      },
      "outputs": [],
      "source": [
        "\"\"\"\n",
        "\n",
        "Input: Dictionary with vehicle IDs as keys and their coordinates, speeds, and street locations as values\n",
        "Output: Modified dictionary with an additional key 'velocity' for each vehicle ID\n",
        "Functionality:\n",
        "                - Calculates the velocity of each vehicle based on its coordinates and speed.\n",
        "                - The velocity is represented as a 2D vector, where the direction is determined by the displacement between consecutive coordinates.\n",
        "\n",
        "\"\"\"\n",
        "\n",
        "def get_velocity(vehicle_data, scenario='highway'):\n",
        "\n",
        "    for vehicle_id, data in vehicle_data.items(): # Iterate through each vehicle's data\n",
        "        vehicle_data[vehicle_id]['velocity'] = np.zeros((len(data['coord, speed']), 2)) # Initialize a numpy array to store velocity vectors\n",
        "        vehicle_data[vehicle_id]['predicted'] = np.zeros((len(data['coord, speed']), 2)) # Initialize a numpy array to store predicted velocities\n",
        "        for i in range(1, len(data['coord, speed'])):\n",
        "            displacement = np.array(data['coord, speed'][i][0]) - np.array(data['coord, speed'][i - 1][0]) # Calculate the displacement between consecutive coordinates\n",
        "            if np.linalg.norm(displacement) > 0: # Check if the displacement is non-zero to avoid division by zero\n",
        "                unit_vector = displacement / np.linalg.norm(displacement) # Normalize the displacement to get the unit vector\n",
        "                vehicle_data[vehicle_id]['velocity'][i] = data['coord, speed'][i][1] * unit_vector # Scale the unit vector by the speed to get the velocity vector\n",
        "\n",
        "                if scenario == 'highway':\n",
        "                    predicted_velocity = displacement * 36\n",
        "                else:\n",
        "                    predicted_velocity = displacement * 3.6\n",
        "\n",
        "                vehicle_data[vehicle_id]['predicted'][i] = predicted_velocity # Store the predicted velocity in the dictionary\n",
        "\n",
        "    return vehicle_data\n",
        "\n",
        "####################################################################################################################################################################################\n",
        "\n",
        "# Test the code here with the provided vehicle data dictionaries\n",
        "\n",
        "# Highway data\n",
        "\n",
        "vehicle_data_245 = get_velocity(vehicle_data_245)\n",
        "vehicle_data_123 = get_velocity(vehicle_data_123)\n",
        "\n",
        "# Urban data\n",
        "\n",
        "# vehicle_data_100 = get_velocity(vehicle_data_100, scenario = 'Urban')\n",
        "# vehicle_data_200 = get_velocity(vehicle_data_200, scenario = 'Urban')\n",
        "# vehicle_data_300 = get_velocity(vehicle_data_300, scenario = 'Urban')"
      ]
    },
    {
      "cell_type": "markdown",
      "metadata": {
        "id": "otFEz_dHyqJy"
      },
      "source": [
        "# **Form All The Valid Pairs**"
      ]
    },
    {
      "cell_type": "code",
      "execution_count": 4,
      "metadata": {
        "id": "K9iofzdXyqJy",
        "outputId": "efe1644d-2fb9-45cf-f938-acadcb48fa33"
      },
      "outputs": [
        {
          "name": "stderr",
          "output_type": "stream",
          "text": [
            "100%|██████████| 245/245 [00:00<?, ?it/s]\n"
          ]
        },
        {
          "name": "stdout",
          "output_type": "stream",
          "text": [
            "True\n"
          ]
        },
        {
          "name": "stderr",
          "output_type": "stream",
          "text": [
            "100%|██████████| 4018/4018 [02:29<00:00, 26.83it/s] \n"
          ]
        },
        {
          "name": "stdout",
          "output_type": "stream",
          "text": [
            "(35740647, 3)\n"
          ]
        },
        {
          "name": "stderr",
          "output_type": "stream",
          "text": [
            "100%|██████████| 123/123 [00:00<00:00, 129071.65it/s]\n"
          ]
        },
        {
          "name": "stdout",
          "output_type": "stream",
          "text": [
            "True\n"
          ]
        },
        {
          "name": "stderr",
          "output_type": "stream",
          "text": [
            "100%|██████████| 1726/1726 [00:20<00:00, 82.67it/s] "
          ]
        },
        {
          "name": "stdout",
          "output_type": "stream",
          "text": [
            "(4994375, 3)\n"
          ]
        },
        {
          "name": "stderr",
          "output_type": "stream",
          "text": [
            "\n"
          ]
        }
      ],
      "source": [
        "\"\"\"\n",
        "\n",
        "Input: path to the excel file containing vehicle data based on SUMO simulation, dictionary containing vehicle data, and a threshold distance\n",
        "Output: List of valid vehicle pairs at each timestamp where the distance between them is less than the threshold\n",
        "Functionality:\n",
        "                - Reads the excel file containing vehicle data.\n",
        "                - For each timestamp, collects active vehicles (vehicles with data at that timestamp).\n",
        "                - Compares all active vehicle pairs and checks if their distance is less than the threshold.\n",
        "                - Returns a list of valid pairs (timestamp, vehicle1 ID, vehicle2 ID).\n",
        "\n",
        "\"\"\"\n",
        "\n",
        "def valid_pairs(path, vehicle_data, threshold, vel_threshold = 1):\n",
        "\n",
        "    data = pd.read_excel(path) # Read the excel file containing vehicle data\n",
        "    time_instants = [] # Initialize an empty list to store the number of time instants for each vehicle\n",
        "\n",
        "    for i in tqdm(range(len(vehicle_data))): # Iterate through each vehicle's data\n",
        "        time_instants.append(len(vehicle_data[i]['coord, speed'])) # Append the length of the 'coord, speed' list for each vehicle to the time_instants list\n",
        "\n",
        "    max_time_instants = max(time_instants) # Get the maximum number of time instants across all vehicles\n",
        "    print(np.sum(time_instants) == len(data)) # Check if the total number of time instants matches the length of the data\n",
        "\n",
        "    all_valid_pairs = [] # Initialize an empty list to store all valid pairs of vehicles\n",
        "\n",
        "    for t in tqdm(range(max_time_instants)): # Iterate through each timestamp\n",
        "        active_vehicles = [] # Initialize an empty list to store active vehicles at this timestamp\n",
        "\n",
        "        # Collect vehicles that have data at this timestamp\n",
        "        for veh_id, vdata in vehicle_data.items():\n",
        "            if t < len(vdata['coord, speed']):\n",
        "\n",
        "                # Check if the predicted velocity exceeds the actual velocity by more than the threshold\n",
        "                \n",
        "                if np.linalg.norm(vdata['predicted'][t] - vdata['velocity'][t]) <= vel_threshold:\n",
        "                    coord = vdata['coord, speed'][t][0]\n",
        "                    active_vehicles.append((veh_id, coord))\n",
        "\n",
        "        # Compare all active vehicle pairs at time t and check if their distance is less than the threshold\n",
        "        for (veh1, coord1), (veh2, coord2) in combinations(active_vehicles, 2):\n",
        "            if np.linalg.norm(np.array(coord1) - np.array(coord2)) < threshold:\n",
        "                all_valid_pairs.append((t, veh1, veh2))\n",
        "\n",
        "    print(np.shape(all_valid_pairs)) \n",
        "\n",
        "    return all_valid_pairs\n",
        "\n",
        "####################################################################################################################################################################################\n",
        "\n",
        "# Test the code here with the provided paths and vehicle data dictionaries\n",
        "\n",
        "# Highway pairs\n",
        "\n",
        "all_valid_pairs_245 = valid_pairs('C:/Users/Vaideeswaran/Documents/ACS Project/traces/3km_highway_70kmph_245vh/output.xlsx', vehicle_data_245, threshold = 1000)\n",
        "all_valid_pairs_123 = valid_pairs('C:/Users/Vaideeswaran/Documents/ACS Project/traces/3km_highway_140kmph_123vh/output.xlsx', vehicle_data_123, threshold = 1000)\n",
        "\n",
        "# Urban pairs\n",
        "\n",
        "# all_valid_pairs_100 = valid_pairs('C:/Users/Vaideeswaran/Documents/ACS Project/traces/urban_60kmph_100vh/output.xlsx', vehicle_data_100, threshold = 500)\n",
        "# all_valid_pairs_200 = valid_pairs('C:/Users/Vaideeswaran/Documents/ACS Project/traces/urban_60kmph_200vh/output.xlsx', vehicle_data_200, threshold = 500)\n",
        "# all_valid_pairs_300 = valid_pairs('C:/Users/Vaideeswaran/Documents/ACS Project/traces/urban_60kmph_300vh/output.xlsx', vehicle_data_300, threshold = 500)"
      ]
    },
    {
      "cell_type": "markdown",
      "metadata": {
        "id": "XLgu8TJEyqJz"
      },
      "source": [
        "# **Preparing the Information Vector**"
      ]
    },
    {
      "cell_type": "code",
      "execution_count": 5,
      "metadata": {
        "id": "wFRkMGRQyqJ0",
        "outputId": "63da5a15-8bb2-4a03-ee47-8403b2cc9892"
      },
      "outputs": [
        {
          "name": "stderr",
          "output_type": "stream",
          "text": [
            "100%|██████████| 4994375/4994375 [01:35<00:00, 52545.42it/s]\n",
            "100%|██████████| 35740647/35740647 [18:30<00:00, 32172.96it/s] \n"
          ]
        },
        {
          "name": "stdout",
          "output_type": "stream",
          "text": [
            "9931670 9931670\n",
            "71201146 71201146\n"
          ]
        }
      ],
      "source": [
        "\"\"\"\n",
        "\n",
        "Input: Dictionary with the vehicular data, list of valid vehicle pairs, and a time window (default: 1 second)\n",
        "Output: Information vector containing pairs of coordinates and their relative velocity, and a new state vector with updated coordinates and relative velocities. The street\n",
        "        information is also included in the new state vector to judge between NLOS and LOS/NLOSv.\n",
        "Functionality:\n",
        "                - For each valid pair of vehicles, finds the next timestamp within the specified time window.\n",
        "                - Computes the coordinates and velocities at both timestamps.\n",
        "                - Constructs an information vector with pairs of coordinates and their relative velocity.\n",
        "                - Constructs a new state vector with updated coordinates, relative velocities, and street information.\n",
        "\n",
        "\"\"\"\n",
        "\n",
        "def information(vehicle_data, all_valid_pairs, window = 1, scenario='highway'):\n",
        "\n",
        "    pair_times = defaultdict(list) # Initialize a dictionary to store timestamps for each vehicle pair\n",
        "\n",
        "    for t, veh1, veh2 in all_valid_pairs: # Iterate through all valid pairs\n",
        "        pair_times[(veh1, veh2)].append(t)\n",
        "\n",
        "    ################################################################################################################################################################################\n",
        "\n",
        "    info_vector, new_state = [], []  # Initialize empty lists for information vector and new state\n",
        "\n",
        "    for t, veh1, veh2 in tqdm(all_valid_pairs): # Iterate through each valid pair of vehicles\n",
        "        times = pair_times[(veh1, veh2)]\n",
        "\n",
        "        # Find matching t_prime where t_prime is the next timestamp within the specified time window\n",
        "        matching_t_prime = None\n",
        "        for t_prime in times:\n",
        "            if t_prime > t and t_prime - t <= window: # Check if t_prime is within the time window\n",
        "                matching_t_prime = t_prime\n",
        "                break  # stop at first found\n",
        "\n",
        "        if matching_t_prime is not None:\n",
        "\n",
        "            # Get the coordinates and velocities at the present timestamp\n",
        "\n",
        "            coord1 = vehicle_data[veh1]['coord, speed'][t][0]\n",
        "            coord2 = vehicle_data[veh2]['coord, speed'][t][0]\n",
        "            vel1 = vehicle_data[veh1]['velocity'][t]\n",
        "            vel2 = vehicle_data[veh2]['velocity'][t]\n",
        "\n",
        "            # Get the coordinates and velocities at the next timestamp\n",
        "\n",
        "            coord1_prime = vehicle_data[veh1]['coord, speed'][matching_t_prime][0]\n",
        "            coord2_prime = vehicle_data[veh2]['coord, speed'][matching_t_prime][0]\n",
        "            if scenario != 'highway':\n",
        "                street1_prime = vehicle_data[veh1]['edge']\n",
        "                street2_prime = vehicle_data[veh2]['edge']\n",
        "            vel1_prime = vehicle_data[veh1]['velocity'][matching_t_prime]\n",
        "            vel2_prime = vehicle_data[veh2]['velocity'][matching_t_prime]\n",
        "\n",
        "            ########################################################################################################################################################################\n",
        "\n",
        "            info_vector.append((coord1, coord2, np.linalg.norm(vel1 - vel2))) # Append the pair of coordinates and their relative velocity to the information vector\n",
        "            info_vector.append((coord2, coord1, np.linalg.norm(vel2 - vel1))) # Append the reverse pair as well for symmetry\n",
        "\n",
        "            ########################################################################################################################################################################\n",
        "\n",
        "            # Save the new state\n",
        "\n",
        "            if scenario != 'highway':\n",
        "                new_state.append((coord1_prime, coord2_prime, np.linalg.norm(vel1_prime - vel2_prime), street1_prime, street2_prime))\n",
        "                new_state.append((coord2_prime, coord1_prime, np.linalg.norm(vel2_prime - vel1_prime), street2_prime, street1_prime)) # Append the reverse pair as well for symmetry\n",
        "            else:\n",
        "                new_state.append((coord1_prime, coord2_prime, np.linalg.norm(vel1_prime - vel2_prime)))\n",
        "                new_state.append((coord2_prime, coord1_prime, np.linalg.norm(vel2_prime - vel1_prime)))\n",
        "\n",
        "    ################################################################################################################################################################################\n",
        "\n",
        "    return info_vector, new_state\n",
        "\n",
        "####################################################################################################################################################################################\n",
        "\n",
        "# Test the code here with the provided vehicle data dictionaries and valid pairs\n",
        "\n",
        "# Highway data\n",
        "\n",
        "info_vector_123, new_state_123 = information(vehicle_data_123, all_valid_pairs_123)\n",
        "info_vector_245, new_state_245 = information(vehicle_data_245, all_valid_pairs_245)\n",
        "\n",
        "print(len(info_vector_123), len(new_state_123)) # Print the lengths of the information vector and new state for vehicle data 123\n",
        "print(len(info_vector_245), len(new_state_245)) # Print the lengths of the information vector and new state for vehicle data 245\n",
        "\n",
        "# Urban data\n",
        "\n",
        "# info_vector_100, new_state_100 = information(vehicle_data_100, all_valid_pairs_100, scenario = 'Urban')\n",
        "# info_vector_200, new_state_200 = information(vehicle_data_200, all_valid_pairs_200, scenario = 'Urban')\n",
        "# info_vector_300, new_state_300 = information(vehicle_data_300, all_valid_pairs_300, scenario = 'Urban')\n",
        "\n",
        "# print(len(info_vector_100), len(new_state_100)) # Print the lengths of the information vector and new state for vehicle data 100\n",
        "# print(len(info_vector_200), len(new_state_200)) # Print the lengths of the information vector and new state for vehicle data 200\n",
        "# print(len(info_vector_300), len(new_state_300)) # Print the lengths of the information vector and new state for vehicle data 300"
      ]
    },
    {
      "cell_type": "markdown",
      "metadata": {},
      "source": [
        "# **Obtain The Training Samples - Highway**"
      ]
    },
    {
      "cell_type": "code",
      "execution_count": 22,
      "metadata": {},
      "outputs": [
        {
          "name": "stderr",
          "output_type": "stream",
          "text": [
            "100%|██████████| 750000/750000 [00:10<00:00, 74571.51it/s] \n",
            "100%|██████████| 750000/750000 [01:36<00:00, 7734.54it/s] \n"
          ]
        },
        {
          "name": "stdout",
          "output_type": "stream",
          "text": [
            "1500000\n",
            "1500000\n"
          ]
        }
      ],
      "source": [
        "num_samples = 1500000 # Define the total number of training samples\n",
        "\n",
        "# Perform the sampling (uniform sampling across the three traffic scenarios)\n",
        "\n",
        "size = num_samples // 2 # Calculate the size for each traffic scenario\n",
        "\n",
        "indices_123_train = np.random.choice(len(info_vector_123), size, replace = False)\n",
        "indices_245_train = np.random.choice(len(info_vector_245), size, replace = False)\n",
        "\n",
        "# Initialize empty lists to store the sampled information vectors and new states for each traffic scenario\n",
        "\n",
        "sampled_info_vector_123, sampled_new_state_123 = [], []\n",
        "sampled_info_vector_245, sampled_new_state_245 = [], []\n",
        "\n",
        "####################################################################################################################################################################################\n",
        "\n",
        "# Sample for the 123 vehicle scenario\n",
        "\n",
        "for index in tqdm(indices_123_train):\n",
        "    sampled_info_vector_123.append(info_vector_123[index])\n",
        "    sampled_new_state_123.append(new_state_123[index])\n",
        "\n",
        "# Sample for the 245 vehicle scenario\n",
        "\n",
        "for index in tqdm(indices_245_train):\n",
        "    sampled_info_vector_245.append(info_vector_245[index])\n",
        "    sampled_new_state_245.append(new_state_245[index])\n",
        "\n",
        "####################################################################################################################################################################################\n",
        "\n",
        "# Final dataset\n",
        "\n",
        "final_info_vector = sampled_info_vector_123 + sampled_info_vector_245 # Concatenate the sampled information vectors from all traffic scenarios\n",
        "final_new_state = sampled_new_state_123 + sampled_new_state_245 # Concatenate the sampled new states from all traffic scenarios\n",
        "\n",
        "print(len(final_info_vector)) # Print the total number of samples in the final information vector\n",
        "print(len(final_new_state)) # Print the total number of samples in the final new state vector\n",
        "\n",
        "####################################################################################################################################################################################\n",
        "\n",
        "# Save the final dataset to a CSV file\n",
        "\n",
        "final_df = pd.DataFrame({\n",
        "    'info_vector': final_info_vector,\n",
        "    'new_state': final_new_state\n",
        "})\n",
        "final_df.to_csv('C:/Users/Vaideeswaran/Documents/ACS Project/Learning Dataset/train_highway_dataset.csv', index = False) # Save the DataFrame to a CSV file without the index"
      ]
    },
    {
      "cell_type": "markdown",
      "metadata": {},
      "source": [
        "# **Obtain The Training Samples - Urban**"
      ]
    },
    {
      "cell_type": "code",
      "execution_count": 6,
      "metadata": {},
      "outputs": [
        {
          "name": "stderr",
          "output_type": "stream",
          "text": [
            "100%|██████████| 500000/500000 [00:00<00:00, 1360788.51it/s]\n",
            "100%|██████████| 500000/500000 [00:00<00:00, 795067.23it/s]\n",
            "100%|██████████| 500000/500000 [00:00<00:00, 733467.15it/s]\n"
          ]
        },
        {
          "name": "stdout",
          "output_type": "stream",
          "text": [
            "1500000\n",
            "1500000\n"
          ]
        }
      ],
      "source": [
        "num_samples = 1500000 # Define the total number of training samples\n",
        "\n",
        "# Perform the sampling (uniform sampling across the three traffic scenarios)\n",
        "\n",
        "size = num_samples // 3 # Calculate the size for each traffic scenario\n",
        "\n",
        "indices_100_train = np.random.choice(len(info_vector_100), size, replace = False)\n",
        "indices_200_train = np.random.choice(len(info_vector_200), size, replace = False)\n",
        "indices_300_train = np.random.choice(len(info_vector_300), size, replace = False)\n",
        "\n",
        "# Initialize empty lists to store the sampled information vectors and new states for each traffic scenario\n",
        "\n",
        "sampled_info_vector_100, sampled_new_state_100 = [], []\n",
        "sampled_info_vector_200, sampled_new_state_200 = [], []\n",
        "sampled_info_vector_300, sampled_new_state_300 = [], []\n",
        "\n",
        "####################################################################################################################################################################################\n",
        "\n",
        "# Sample for the 100 vehicle scenario\n",
        "\n",
        "for index in tqdm(indices_100_train):\n",
        "    sampled_info_vector_100.append(info_vector_100[index])\n",
        "    sampled_new_state_100.append(new_state_100[index])\n",
        "\n",
        "# Sample for the 200 vehicle scenario\n",
        "\n",
        "for index in tqdm(indices_200_train):\n",
        "    sampled_info_vector_200.append(info_vector_200[index])\n",
        "    sampled_new_state_200.append(new_state_200[index])\n",
        "\n",
        "# Sample for the 300 vehicle scenario\n",
        "\n",
        "for index in tqdm(indices_300_train):\n",
        "    sampled_info_vector_300.append(info_vector_300[index])\n",
        "    sampled_new_state_300.append(new_state_300[index])\n",
        "\n",
        "####################################################################################################################################################################################\n",
        "\n",
        "# Final dataset\n",
        "\n",
        "final_info_vector = sampled_info_vector_100 + sampled_info_vector_200 + sampled_info_vector_300 # Concatenate the sampled information vectors from all traffic scenarios\n",
        "final_new_state = sampled_new_state_100 + sampled_new_state_200 + sampled_new_state_300 # Concatenate the sampled new states from all traffic scenarios\n",
        "\n",
        "print(len(final_info_vector)) # Print the total number of samples in the final information vector\n",
        "print(len(final_new_state)) # Print the total number of samples in the final new state vector\n",
        "\n",
        "####################################################################################################################################################################################\n",
        "\n",
        "# Save the final dataset to a CSV file\n",
        "\n",
        "final_df = pd.DataFrame({\n",
        "    'info_vector': final_info_vector,\n",
        "    'new_state': final_new_state\n",
        "})\n",
        "final_df.to_csv('C:/Users/Vaideeswaran/Documents/ACS Project/Learning Dataset/train_urban_dataset.csv', index = False) # Save the DataFrame to a CSV file without the index"
      ]
    },
    {
      "cell_type": "markdown",
      "metadata": {
        "id": "8TkWoQDQyqJ1"
      },
      "source": [
        "# **Obtaining The Testing Samples - Highway**"
      ]
    },
    {
      "cell_type": "code",
      "execution_count": 23,
      "metadata": {},
      "outputs": [
        {
          "name": "stderr",
          "output_type": "stream",
          "text": [
            "100%|██████████| 993167/993167 [00:04<00:00, 228957.07it/s]\n",
            "100%|██████████| 993167/993167 [00:00<00:00, 1439729.53it/s]\n",
            "100%|██████████| 7120114/7120114 [03:29<00:00, 33965.31it/s] \n",
            "100%|██████████| 7120114/7120114 [00:17<00:00, 414130.27it/s] \n"
          ]
        },
        {
          "name": "stdout",
          "output_type": "stream",
          "text": [
            "Total test samples: 8113281\n"
          ]
        }
      ],
      "source": [
        "test_fraction = 0.1 # Define the fraction of data to be used for testing\n",
        "\n",
        "# Identify available indices for each traffic scenario after training samples have been selected\n",
        "\n",
        "available_indices_123 = list(set(range(len(info_vector_123))) - set(indices_123_train)) \n",
        "available_indices_245 = list(set(range(len(info_vector_245))) - set(indices_245_train))\n",
        "\n",
        "####################################################################################################################################################################################\n",
        "\n",
        "# Sample the indices for the test set based on the available indices after training samples have been selected for each traffic scenario\n",
        "\n",
        "# 123 vehicle scenario\n",
        "\n",
        "indices_123_test = np.random.choice(\n",
        "    available_indices_123,\n",
        "    size=int(len(info_vector_123) * test_fraction),\n",
        "    replace=False\n",
        ")\n",
        "\n",
        "# 245 vehicle scenario\n",
        "\n",
        "indices_245_test = np.random.choice(\n",
        "    available_indices_245,\n",
        "    size=int(len(info_vector_245) * test_fraction),\n",
        "    replace=False\n",
        ")\n",
        "\n",
        "####################################################################################################################################################################################\n",
        "\n",
        "# Obtain the sampled information vectors and new states for the test set\n",
        "\n",
        "sampled_info_vector_123_test = [info_vector_123[i] for i in tqdm(indices_123_test)]\n",
        "sampled_new_state_123_test = [new_state_123[i] for i in tqdm(indices_123_test)]\n",
        "\n",
        "sampled_info_vector_245_test = [info_vector_245[i] for i in tqdm(indices_245_test)]\n",
        "sampled_new_state_245_test = [new_state_245[i] for i in tqdm(indices_245_test)]\n",
        "\n",
        "####################################################################################################################################################################################\n",
        "\n",
        "# Combine test sets\n",
        "\n",
        "final_info_vector_test = (\n",
        "    sampled_info_vector_123_test +\n",
        "    sampled_info_vector_245_test\n",
        ")\n",
        "\n",
        "final_new_state_test = (\n",
        "    sampled_new_state_123_test +\n",
        "    sampled_new_state_245_test\n",
        ")\n",
        "\n",
        "print(\"Total test samples:\", len(final_info_vector_test))\n",
        "\n",
        "####################################################################################################################################################################################\n",
        "\n",
        "# Save the final test dataset to a CSV file\n",
        "\n",
        "final_test_df = pd.DataFrame({\n",
        "    'info_vector': final_info_vector_test,\n",
        "    'new_state': final_new_state_test\n",
        "})\n",
        "final_test_df.to_csv('C:/Users/Vaideeswaran/Documents/ACS Project/Learning Dataset/test_highway_dataset.csv', index = False) # Save the DataFrame to a CSV file without the index"
      ]
    },
    {
      "cell_type": "markdown",
      "metadata": {},
      "source": [
        "# **Obtaining The Testing Samples - Urban**"
      ]
    },
    {
      "cell_type": "code",
      "execution_count": 7,
      "metadata": {},
      "outputs": [
        {
          "name": "stderr",
          "output_type": "stream",
          "text": [
            "100%|██████████| 179337/179337 [00:00<00:00, 983330.69it/s]\n",
            "100%|██████████| 179337/179337 [00:00<00:00, 1232436.00it/s]\n",
            "100%|██████████| 2086416/2086416 [00:02<00:00, 926178.76it/s] \n",
            "100%|██████████| 2086416/2086416 [00:01<00:00, 1144355.38it/s]\n",
            "100%|██████████| 5641416/5641416 [00:07<00:00, 727018.83it/s] \n",
            "100%|██████████| 5641416/5641416 [00:09<00:00, 596344.54it/s] \n"
          ]
        },
        {
          "name": "stdout",
          "output_type": "stream",
          "text": [
            "Total test samples: 7907169\n"
          ]
        }
      ],
      "source": [
        "test_fraction = 0.2 # Define the fraction of data to be used for testing\n",
        "\n",
        "# Identify available indices for each traffic scenario after training samples have been selected\n",
        "\n",
        "available_indices_100 = list(set(range(len(info_vector_100))) - set(indices_100_train)) \n",
        "available_indices_200 = list(set(range(len(info_vector_200))) - set(indices_200_train))\n",
        "available_indices_300 = list(set(range(len(info_vector_300))) - set(indices_300_train))\n",
        "\n",
        "####################################################################################################################################################################################\n",
        "\n",
        "# Sample the indices for the test set based on the available indices after training samples have been selected for each traffic scenario\n",
        "\n",
        "# 100 vehicle scenario\n",
        "\n",
        "indices_100_test = np.random.choice(\n",
        "    available_indices_100,\n",
        "    size=int(len(info_vector_100) * test_fraction),\n",
        "    replace=False\n",
        ")\n",
        "\n",
        "# 200 vehicle scenario\n",
        "\n",
        "indices_200_test = np.random.choice(\n",
        "    available_indices_200,\n",
        "    size=int(len(info_vector_200) * test_fraction),\n",
        "    replace=False\n",
        ")\n",
        "\n",
        "# 300 vehicle scenario\n",
        "\n",
        "indices_300_test = np.random.choice(\n",
        "    available_indices_300,\n",
        "    size=int(len(info_vector_300) * test_fraction),\n",
        "    replace=False\n",
        ")\n",
        "\n",
        "####################################################################################################################################################################################\n",
        "\n",
        "# Obtain the sampled information vectors and new states for the test set\n",
        "\n",
        "sampled_info_vector_100_test = [info_vector_100[i] for i in tqdm(indices_100_test)]\n",
        "sampled_new_state_100_test = [new_state_100[i] for i in tqdm(indices_100_test)]\n",
        "\n",
        "sampled_info_vector_200_test = [info_vector_200[i] for i in tqdm(indices_200_test)]\n",
        "sampled_new_state_200_test = [new_state_200[i] for i in tqdm(indices_200_test)]\n",
        "\n",
        "sampled_info_vector_300_test = [info_vector_300[i] for i in tqdm(indices_300_test)]\n",
        "sampled_new_state_300_test = [new_state_300[i] for i in tqdm(indices_300_test)]\n",
        "\n",
        "####################################################################################################################################################################################\n",
        "\n",
        "# Combine test sets\n",
        "\n",
        "final_info_vector_test = (\n",
        "    sampled_info_vector_100_test +\n",
        "    sampled_info_vector_200_test +\n",
        "    sampled_info_vector_300_test\n",
        ")\n",
        "\n",
        "final_new_state_test = (\n",
        "    sampled_new_state_100_test +\n",
        "    sampled_new_state_200_test +\n",
        "    sampled_new_state_300_test\n",
        ")\n",
        "\n",
        "print(\"Total test samples:\", len(final_info_vector_test))\n",
        "\n",
        "####################################################################################################################################################################################\n",
        "\n",
        "# Save the final test dataset to a CSV file\n",
        "\n",
        "final_test_df = pd.DataFrame({\n",
        "    'info_vector': final_info_vector_test,\n",
        "    'new_state': final_new_state_test\n",
        "})\n",
        "final_test_df.to_csv('C:/Users/Vaideeswaran/Documents/ACS Project/Learning Dataset/test_urban_dataset.csv', index = False) # Save the DataFrame to a CSV file without the index"
      ]
    },
    {
      "cell_type": "markdown",
      "metadata": {},
      "source": [
        "# **Relative Velocity Stats - Highway**"
      ]
    },
    {
      "cell_type": "code",
      "execution_count": 7,
      "metadata": {
        "id": "4fgwOXPlyqJ2",
        "outputId": "4b7fb146-2a04-46c4-9c92-645f66086fde"
      },
      "outputs": [
        {
          "name": "stderr",
          "output_type": "stream",
          "text": [
            "100%|██████████| 9931670/9931670 [00:04<00:00, 2303932.78it/s]\n",
            "100%|██████████| 71201146/71201146 [00:56<00:00, 1261072.36it/s]\n"
          ]
        }
      ],
      "source": [
        "v_rel_mag_123_previous_state, v_rel_mag_123_new_state = [], []\n",
        "v_rel_mag_245_previous_state, v_rel_mag_245_new_state = [], []\n",
        "\n",
        "for i in tqdm(range(len(info_vector_123))):\n",
        "    v_rel_mag_123_previous_state.append(info_vector_123[i][2]) # Append the relative velocity magnitude from the previous state for 123 vehicles\n",
        "    v_rel_mag_123_new_state.append(new_state_123[i][2]) # Append the relative velocity magnitude from the new state for 123 vehicles\n",
        "\n",
        "for i in tqdm(range(len(info_vector_245))):\n",
        "    v_rel_mag_245_previous_state.append(info_vector_245[i][2]) # Append the relative velocity magnitude from the previous state for 245 vehicles\n",
        "    v_rel_mag_245_new_state.append(new_state_245[i][2]) # Append the relative velocity magnitude from the new state for 245 vehicles\n",
        "\n",
        "\n",
        "# Plot the distribution of relative velocities for each traffic scenario\n",
        "\n",
        "# plt.figure(figsize=(12, 6))\n",
        "# plt.subplot(4, 1, 1)\n",
        "# plt.hist(v_rel_mag_123_previous_state, bins=50, color='blue', alpha=0.7)\n",
        "# plt.title('Relative Velocity Distribution - 123 Vehicles (previous state)')\n",
        "# plt.xlabel('Relative Velocity (kmph)')\n",
        "# plt.ylabel('Frequency')\n",
        "\n",
        "# plt.subplot(4, 1, 2)\n",
        "# plt.hist(v_rel_mag_123_new_state, bins=50, color='blue', alpha=0.7)\n",
        "# plt.title('Relative Velocity Distribution - 123 Vehicles (new state)')\n",
        "# plt.xlabel('Relative Velocity (kmph)')\n",
        "# plt.ylabel('Frequency')\n",
        "\n",
        "# plt.subplot(4, 1, 3)\n",
        "# plt.hist(v_rel_mag_245_previous_state, bins=50, color='orange', alpha=0.7)\n",
        "# plt.title('Relative Velocity Distribution - 245 Vehicles (previous state)')\n",
        "# plt.xlabel('Relative Velocity (kmph)')\n",
        "# plt.ylabel('Frequency')\n",
        "\n",
        "# plt.subplot(4, 1, 4)\n",
        "# plt.hist(v_rel_mag_245_new_state, bins=50, color='orange', alpha=0.7)\n",
        "# plt.title('Relative Velocity Distribution - 245 Vehicles (new state)')\n",
        "# plt.xlabel('Relative Velocity (kmph)')\n",
        "# plt.ylabel('Frequency')\n",
        "\n",
        "# plt.tight_layout()\n",
        "# plt.savefig('C:/Users/Vaideeswaran/Documents/ACS Project/Learning Dataset/relative_velocity_distribution.svg') # Save the plot as an image file\n",
        "# plt.show() # Display the plot"
      ]
    },
    {
      "cell_type": "code",
      "execution_count": 8,
      "metadata": {},
      "outputs": [
        {
          "data": {
            "image/png": "[encoded data removed]",
            "text/plain": [
              "<Figure size 1200x1200 with 2 Axes>"
            ]
          },
          "metadata": {},
          "output_type": "display_data"
        }
      ],
      "source": [
        "v_rel_combined_highway_previous_state = v_rel_mag_123_previous_state + v_rel_mag_245_previous_state # Combine the relative velocities for the highway scenarios\n",
        "v_rel_combined_highway_new_state = v_rel_mag_123_new_state + v_rel_mag_245_new_state # Combine the relative velocities for the highway scenarios\n",
        "\n",
        "# Plot the combined distribution of relative velocities for highway and urban scenarios\n",
        "\n",
        "plt.figure(figsize=(12, 12))\n",
        "plt.subplot(2, 1, 1)\n",
        "plt.hist(v_rel_combined_highway_previous_state, bins=30, color='blue', alpha=0.7)\n",
        "plt.title('Relative Velocity Magnitude Distribution in Highway Scenarios (Present State)')\n",
        "plt.xlabel('Relative Velocity (kmph)')\n",
        "plt.ylabel('Frequency')\n",
        "\n",
        "plt.subplot(2, 1, 2)\n",
        "plt.hist(v_rel_combined_highway_new_state, bins=30, color='green', alpha=0.7)\n",
        "plt.title('Relative Velocity Magnitude Distribution in Highway Scenarios (Future State)')\n",
        "plt.xlabel('Relative Velocity (kmph)')\n",
        "plt.ylabel('Frequency')\n",
        "plt.tight_layout()\n",
        "plt.savefig('C:/Users/Vaideeswaran/Documents/ACS Project/Learning Dataset/highway_combined_relative_velocity_distribution.pdf') # Save the plot as an image file\n",
        "plt.show() # Display the plot"
      ]
    },
    {
      "cell_type": "markdown",
      "metadata": {},
      "source": [
        "# **Relative Velocity Stats - Urban**"
      ]
    },
    {
      "cell_type": "code",
      "execution_count": 6,
      "metadata": {},
      "outputs": [],
      "source": [
        "v_rel_mag_100_previous_state, v_rel_mag_100_new_state = [], []\n",
        "v_rel_mag_200_previous_state, v_rel_mag_200_new_state = [], []\n",
        "v_rel_mag_300_previous_state, v_rel_mag_300_new_state = [], []\n",
        "\n",
        "for i in range(len(info_vector_100)):\n",
        "    v_rel_mag_100_previous_state.append(info_vector_100[i][2]) # Append the relative velocity magnitude from the previous state for 100 vehicles\n",
        "    v_rel_mag_100_new_state.append(new_state_100[i][2]) # Append the relative velocity magnitude from the new state for 100 vehicles\n",
        "\n",
        "for i in range(len(info_vector_200)):\n",
        "    v_rel_mag_200_previous_state.append(info_vector_200[i][2]) # Append the relative velocity magnitude from the previous state for 200 vehicles\n",
        "    v_rel_mag_200_new_state.append(new_state_200[i][2]) # Append the relative velocity magnitude from the new state for 200 vehicles\n",
        "\n",
        "for i in range(len(info_vector_300)):\n",
        "    v_rel_mag_300_previous_state.append(info_vector_300[i][2]) # Append the relative velocity magnitude from the previous state for 300 vehicles\n",
        "    v_rel_mag_300_new_state.append(new_state_300[i][2]) # Append the relative velocity magnitude from the new state for 300 vehicles\n",
        "\n",
        "\n",
        "# # Plot the distribution of relative velocities for each traffic scenario\n",
        "\n",
        "# plt.figure(figsize=(20, 20))\n",
        "# plt.subplot(3, 2, 1)\n",
        "# plt.hist(v_rel_mag_100_previous_state, bins=50, color='blue', alpha=0.7)\n",
        "# plt.title('Relative Velocity Distribution - 100 Vehicles (previous state)')\n",
        "# plt.xlabel('Relative Velocity (kmph)')\n",
        "# plt.ylabel('Frequency')\n",
        "\n",
        "# plt.subplot(3, 2, 2)\n",
        "# plt.hist(v_rel_mag_100_new_state, bins=50, color='blue', alpha=0.7)\n",
        "# plt.title('Relative Velocity Distribution - 100 Vehicles (new state)')\n",
        "# plt.xlabel('Relative Velocity (kmph)')\n",
        "# plt.ylabel('Frequency')\n",
        "\n",
        "# plt.subplot(3, 2, 3)\n",
        "# plt.hist(v_rel_mag_200_previous_state, bins=50, color='orange', alpha=0.7)\n",
        "# plt.title('Relative Velocity Distribution - 200 Vehicles (previous state)')\n",
        "# plt.xlabel('Relative Velocity (kmph)')\n",
        "# plt.ylabel('Frequency')\n",
        "\n",
        "# plt.subplot(3, 2, 4)\n",
        "# plt.hist(v_rel_mag_200_new_state, bins=50, color='orange', alpha=0.7)\n",
        "# plt.title('Relative Velocity Distribution - 200 Vehicles (new state)')\n",
        "# plt.xlabel('Relative Velocity (kmph)')\n",
        "# plt.ylabel('Frequency')\n",
        "\n",
        "# plt.subplot(3, 2, 5)\n",
        "# plt.hist(v_rel_mag_300_new_state, bins=50, color='green', alpha=0.7)\n",
        "# plt.title('Relative Velocity Distribution - 300 Vehicles (new state)')\n",
        "# plt.xlabel('Relative Velocity (kmph)')\n",
        "# plt.ylabel('Frequency')\n",
        "\n",
        "# plt.subplot(3, 2, 6)\n",
        "# plt.hist(v_rel_mag_300_new_state, bins=50, color='green', alpha=0.7)\n",
        "# plt.title('Relative Velocity Distribution - 300 Vehicles (new state)')\n",
        "# plt.xlabel('Relative Velocity (kmph)')\n",
        "# plt.ylabel('Frequency')\n",
        "\n",
        "# plt.tight_layout()\n",
        "# plt.savefig('C:/Users/Vaideeswaran/Documents/ACS Project/Learning Dataset/urban_relative_velocity_distribution.svg') # Save the plot as an image file\n",
        "# plt.show() # Display the plot"
      ]
    },
    {
      "cell_type": "code",
      "execution_count": 7,
      "metadata": {},
      "outputs": [
        {
          "data": {
            "image/png": "[encoded data removed]",
            "text/plain": [
              "<Figure size 1200x1200 with 2 Axes>"
            ]
          },
          "metadata": {},
          "output_type": "display_data"
        }
      ],
      "source": [
        "v_rel_combined_urban_previous_state = v_rel_mag_100_previous_state + v_rel_mag_200_previous_state + v_rel_mag_300_previous_state # Combine the relative velocities for the highway scenarios\n",
        "v_rel_combined_urban_new_state = v_rel_mag_100_new_state + v_rel_mag_200_new_state + v_rel_mag_300_new_state # Combine the relative velocities for the highway scenarios\n",
        "\n",
        "# Plot the combined distribution of relative velocities for highway and urban scenarios\n",
        "\n",
        "plt.figure(figsize=(12, 12))\n",
        "plt.subplot(2, 1, 1)\n",
        "plt.hist(v_rel_combined_urban_previous_state, bins=50, color='blue', alpha=0.7)\n",
        "plt.title('Relative Velocity Magnitude Distribution in Urban Scenarios (Present State)')\n",
        "plt.xlabel('Relative Velocity (kmph)')\n",
        "plt.ylabel('Frequency')\n",
        "\n",
        "plt.subplot(2, 1, 2)\n",
        "plt.hist(v_rel_combined_urban_new_state, bins=50, color='green', alpha=0.7)\n",
        "plt.title('Relative Velocity Magnitude Distribution in Urban Scenarios (Future State)')\n",
        "plt.xlabel('Relative Velocity (kmph)')\n",
        "plt.ylabel('Frequency')\n",
        "plt.tight_layout()\n",
        "plt.savefig('C:/Users/Vaideeswaran/Documents/ACS Project/Learning Dataset/urban_combined_relative_velocity_distribution.svg') # Save the plot as an image file\n",
        "plt.show() # Display the plot"
      ]
    }
  ],
  "metadata": {
    "colab": {
      "provenance": []
    },
    "kaggle": {
      "accelerator": "none",
      "dataSources": [],
      "dockerImageVersionId": 30786,
      "isGpuEnabled": false,
      "isInternetEnabled": true,
      "language": "python",
      "sourceType": "notebook"
    },
    "kernelspec": {
      "display_name": "base",
      "language": "python",
      "name": "python3"
    },
    "language_info": {
      "codemirror_mode": {
        "name": "ipython",
        "version": 3
      },
      "file_extension": ".py",
      "mimetype": "text/x-python",
      "name": "python",
      "nbconvert_exporter": "python",
      "pygments_lexer": "ipython3",
      "version": "3.12.3"
    }
  },
  "nbformat": 4,
  "nbformat_minor": 0
}
